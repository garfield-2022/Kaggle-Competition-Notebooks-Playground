{
 "cells": [
  {
   "cell_type": "markdown",
   "metadata": {},
   "source": [
    "https://www.kaggle.com/competitions/playground-series-s4e4\n",
    "\n",
    "Private Score: 0.14613.\n",
    "\n",
    "Public score: 0.14633."
   ]
  },
  {
   "cell_type": "markdown",
   "metadata": {},
   "source": [
    "Main references:\n",
    "\n",
    "1. Abalone https://archive.ics.uci.edu/dataset/1/abalone,\n",
    "2. How to Transform Target Variables for Regression in Python https://machinelearningmastery.com/how-to-transform-target-variables-for-regression-with-scikit-learn/,\n",
    "3. Comparison of Regression Analysis Algorithms https://gursev-pirge.medium.com/comparison-of-regression-analysis-algorithms-db710b6d7528,\n",
    "4. https://github.com/szilard/benchm-ml,\n",
    "5. EDA from PlaygroundS4E04|EDA|Baseline https://www.kaggle.com/code/ravi20076/playgrounds4e04-eda-baseline,\n",
    "6. Ensemble from https://www.kaggle.com/competitions/playground-series-s4e4/discussion/492815#2773797,\n",
    "7. Feature engineering from PS4E4 | Abalone Age Prediction | Regression by MINATO NAMIKAZE https://www.kaggle.com/code/arunklenin/ps4e4-abalone-age-prediction-regression,\n",
    "8. optuna parameters from PS4E4: XGB + Cat + LGB + HGB https://www.kaggle.com/code/martinapreusse/ps4e4-xgb-cat-lgb-hgb#Feature-Engineering.\n",
    "\n",
    "Finally,\n",
    "9. PS4E4 🏆| XGBoost+LIGHTGBM+CatBoost😊😊😊 https://www.kaggle.com/code/aaachen/ps4e4-xgboost-lightgbm-catboost."
   ]
  },
  {
   "cell_type": "markdown",
   "metadata": {},
   "source": [
    "Sex: M, F, and I (infant),\n",
    "\n",
    "Length: Longest shell measurement (mm),\n",
    "\n",
    "Diameter: perpendicular to length (mm),\n",
    "\n",
    "Height: with meat in shell (mm),\n",
    "\n",
    "Whole_weight: whole abalone (grams),\n",
    "\n",
    "Shucked_weight: weight of meat (grams),\n",
    "\n",
    "Viscera_weight: gut weight (after bleeding) (grams),\n",
    "\n",
    "Shell_weight: after being dried (grams),\n",
    "\n",
    "Rings: +1.5 gives the age in years."
   ]
  },
  {
   "cell_type": "code",
   "execution_count": 1,
   "metadata": {
    "execution": {
     "iopub.execute_input": "2024-04-30T12:18:17.170711Z",
     "iopub.status.busy": "2024-04-30T12:18:17.169774Z",
     "iopub.status.idle": "2024-04-30T12:18:23.070040Z",
     "shell.execute_reply": "2024-04-30T12:18:23.068805Z",
     "shell.execute_reply.started": "2024-04-30T12:18:17.170654Z"
    }
   },
   "outputs": [],
   "source": [
    "import numpy as np \n",
    "import pandas as pd\n",
    "import matplotlib.pyplot as plt\n",
    "import seaborn as sns\n",
    "%matplotlib inline\n",
    "from warnings import filterwarnings;\n",
    "filterwarnings('ignore');\n",
    "\n",
    "from scipy import stats\n",
    "from scipy.stats import norm, skew, boxcox_normmax\n",
    "from scipy.special import boxcox1p\n",
    "\n",
    "from sklearn.preprocessing import RobustScaler\n",
    "from sklearn.pipeline import make_pipeline\n",
    "from sklearn.model_selection import cross_val_score, KFold, train_test_split\n",
    "from sklearn.metrics import mean_squared_log_error\n",
    "from sklearn.linear_model import Lasso, LassoCV, Ridge, RidgeCV\n",
    "from sklearn.ensemble import RandomForestRegressor, GradientBoostingRegressor, HistGradientBoostingRegressor\n",
    "from sklearn.ensemble import StackingRegressor, VotingRegressor\n",
    "from sklearn.compose import TransformedTargetRegressor\n",
    "\n",
    "from xgboost import XGBRegressor\n",
    "from lightgbm import LGBMRegressor\n",
    "from catboost import CatBoostRegressor\n",
    "\n",
    "import optuna\n",
    "\n",
    "from datetime import datetime"
   ]
  },
  {
   "cell_type": "markdown",
   "metadata": {},
   "source": [
    "# 1. Load Data"
   ]
  },
  {
   "cell_type": "code",
   "execution_count": 2,
   "metadata": {
    "execution": {
     "iopub.execute_input": "2024-04-30T12:18:26.206187Z",
     "iopub.status.busy": "2024-04-30T12:18:26.205080Z",
     "iopub.status.idle": "2024-04-30T12:18:26.479032Z",
     "shell.execute_reply": "2024-04-30T12:18:26.477896Z",
     "shell.execute_reply.started": "2024-04-30T12:18:26.206149Z"
    }
   },
   "outputs": [],
   "source": [
    "train = pd.read_csv('/kaggle/input/playground-series-s4e4/train.csv')\n",
    "train.rename(columns={'Whole weight':'Whole_weight', 'Whole weight.1':'Shucked_weight', 'Whole weight.2':'Viscera_weight', 'Shell weight':'Shell_weight'}, inplace=True)\n",
    "train.drop('id', axis=1, inplace=True)"
   ]
  },
  {
   "cell_type": "code",
   "execution_count": 3,
   "metadata": {
    "execution": {
     "iopub.execute_input": "2024-04-30T12:18:29.045672Z",
     "iopub.status.busy": "2024-04-30T12:18:29.045047Z",
     "iopub.status.idle": "2024-04-30T12:18:29.078153Z",
     "shell.execute_reply": "2024-04-30T12:18:29.076709Z",
     "shell.execute_reply.started": "2024-04-30T12:18:29.045639Z"
    }
   },
   "outputs": [],
   "source": [
    "original = pd.read_csv('/kaggle/input/abalone-extra/abalone.data', sep=',', names=['Sex', 'Length', 'Diameter', 'Height', 'Whole_weight', 'Shucked_weight', 'Viscera_weight', 'Shell_weight', 'Rings'])"
   ]
  },
  {
   "cell_type": "code",
   "execution_count": 4,
   "metadata": {
    "execution": {
     "iopub.execute_input": "2024-04-30T12:18:30.741245Z",
     "iopub.status.busy": "2024-04-30T12:18:30.740808Z",
     "iopub.status.idle": "2024-04-30T12:18:30.889506Z",
     "shell.execute_reply": "2024-04-30T12:18:30.888315Z",
     "shell.execute_reply.started": "2024-04-30T12:18:30.741213Z"
    }
   },
   "outputs": [],
   "source": [
    "test = pd.read_csv('/kaggle/input/playground-series-s4e4/test.csv')\n",
    "test.rename(columns={'Whole weight':'Whole_weight', 'Whole weight.1':'Shucked_weight', 'Whole weight.2':'Viscera_weight', 'Shell weight':'Shell_weight'}, inplace=True)\n",
    "test_ID = test['id']\n",
    "test.drop('id', axis=1, inplace=True)"
   ]
  },
  {
   "cell_type": "markdown",
   "metadata": {},
   "source": [
    "# 2. EDA"
   ]
  },
  {
   "cell_type": "code",
   "execution_count": null,
   "metadata": {},
   "outputs": [],
   "source": [
    "def MakeCatFtrePlots(cat_cols):\n",
    "        \"This method returns the category feature plots\";\n",
    "        \n",
    "        fig, axes = plt.subplots(len(cat_cols), 3, figsize = (20, len(cat_cols)* 4.5), \n",
    "                                     gridspec_kw = {'wspace': 0.25, 'hspace': 0.3});\n",
    "\n",
    "        for i, col in enumerate(cat_cols):\n",
    "            ax = axes[i, 0] if len(cat_cols) > 1 else axes[0];\n",
    "            a = train[col].value_counts(normalize = True);\n",
    "            a.sort_index().plot.barh(ax = ax, color = '#007399');\n",
    "            ax.set_title(f\"{col}_Train\", **title_specs);\n",
    "            ax.set_xticks(np.arange(0.0, 0.9, 0.05), \n",
    "                              labels = np.round(np.arange(0.0, 0.9, 0.05),2), \n",
    "                              rotation = 90\n",
    "                             );\n",
    "            ax.set(xlabel = '', ylabel = '');\n",
    "            del a;\n",
    "\n",
    "            ax = axes[i, 1] if len(cat_cols) > 1 else axes[1];\n",
    "            a = test[col].value_counts(normalize = True);\n",
    "            a.sort_index().plot.barh(ax = ax, color = '#0088cc');\n",
    "            ax.set_title(f\"{col}_Test\", **title_specs);\n",
    "            ax.set_xticks(np.arange(0.0, 0.9, 0.05), \n",
    "                              labels = np.round(np.arange(0.0, 0.9, 0.05),2), \n",
    "                              rotation = 90\n",
    "                             );\n",
    "            ax.set(xlabel = '', ylabel = '');\n",
    "            del a;\n",
    "\n",
    "            ax = axes[i, 2] if len(cat_cols) > 1 else axes[2];\n",
    "            a = original[col].value_counts(normalize = True);\n",
    "            a.sort_index().plot.barh(ax = ax, color = '#0047b3');\n",
    "            ax.set_title(f\"{col}_Original\", {'fontsize': 9, 'fontweight': 'bold', 'color': '#992600'});\n",
    "            ax.set_xticks(np.arange(0.0, 0.9, 0.05), \n",
    "                              labels = np.round(np.arange(0.0, 0.9, 0.05),2), \n",
    "                              rotation = 90\n",
    "                             );\n",
    "            ax.set(xlabel = '', ylabel = '');\n",
    "            del a;       \n",
    "\n",
    "        plt.suptitle(f\"Category column plots\", **title_specs, y= 0.975);\n",
    "        plt.tight_layout();\n",
    "        plt.show();"
   ]
  },
  {
   "cell_type": "code",
   "execution_count": null,
   "metadata": {},
   "outputs": [],
   "source": [
    "def MakeContColPlots(cont_cols):\n",
    "        \"This method returns the continuous feature plots\";\n",
    "        \n",
    "        df = pd.concat([train[cont_cols].assign(Source = 'Train'), \n",
    "                            test[cont_cols].assign(Source = 'Test'),\n",
    "                            original[cont_cols].assign(Source = \"Original\")\n",
    "                           ], \n",
    "                           axis=0, ignore_index = True\n",
    "                          );\n",
    "\n",
    "        fig, axes = plt.subplots(len(cont_cols), 4 ,figsize = (16, len(cont_cols) * 4.2), \n",
    "                                     gridspec_kw = {'hspace': 0.35, \n",
    "                                                    'wspace': 0.3, \n",
    "                                                    'width_ratios': [0.80, 0.20, 0.20, 0.20]\n",
    "                                                   }\n",
    "                                    );\n",
    "\n",
    "        for i,col in enumerate(cont_cols):\n",
    "            ax = axes[i,0];\n",
    "            sns.kdeplot(data = df[[col, 'Source']], x = col, hue = 'Source', \n",
    "                            palette = ['#0039e6', '#ff5500', '#00b300'], \n",
    "                            ax = ax, linewidth = 2.1\n",
    "                           );\n",
    "            ax.set_title(f\"\\n{col}\", **title_specs);\n",
    "            ax.grid(grid_specs);\n",
    "            ax.set(xlabel = '', ylabel = '');\n",
    "\n",
    "            ax = axes[i,1];\n",
    "            sns.boxplot(data = df.loc[df.Source == 'Train', [col]], y = col, width = 0.25,\n",
    "                            color = '#33ccff', saturation = 0.90, linewidth = 0.90, \n",
    "                            fliersize= 2.25,\n",
    "                            ax = ax);\n",
    "            ax.set(xlabel = '', ylabel = '');\n",
    "            ax.set_title(f\"Train\", **title_specs);\n",
    "\n",
    "            ax = axes[i,2];\n",
    "            sns.boxplot(data = df.loc[df.Source == 'Test', [col]], y = col, width = 0.25, fliersize= 2.25,\n",
    "                            color = '#80ffff', saturation = 0.6, linewidth = 0.90, \n",
    "                            ax = ax); \n",
    "            ax.set(xlabel = '', ylabel = '');\n",
    "            ax.set_title(f\"Test\", **title_specs);\n",
    "\n",
    "            ax = axes[i,3];\n",
    "            sns.boxplot(data = df.loc[df.Source == 'Original', [col]], y = col, width = 0.25, fliersize= 2.25,\n",
    "                            color = '#99ddff', saturation = 0.6, linewidth = 0.90, \n",
    "                            ax = ax); \n",
    "            ax.set(xlabel = '', ylabel = '');\n",
    "            ax.set_title(f\"Original\", **title_specs);\n",
    "\n",
    "        plt.suptitle(f\"\\nDistribution analysis- continuous columns\\n\", **title_specs,\n",
    "                         y = 0.92, x = 0.50\n",
    "                        );\n",
    "        plt.tight_layout();\n",
    "        plt.show();"
   ]
  },
  {
   "cell_type": "code",
   "execution_count": null,
   "metadata": {},
   "outputs": [],
   "source": [
    "title_specs = {'fontsize': 9, 'fontweight': 'bold', 'color': '#992600'};\n",
    "grid_specs = {'visible': True, 'which': 'both', 'linestyle': '--', 'color': 'lightgrey', 'linewidth': 0.75};"
   ]
  },
  {
   "cell_type": "code",
   "execution_count": null,
   "metadata": {},
   "outputs": [],
   "source": [
    "MakeCatFtrePlots(['Sex'])"
   ]
  },
  {
   "cell_type": "code",
   "execution_count": null,
   "metadata": {},
   "outputs": [],
   "source": [
    "MakeContColPlots(['Length', 'Diameter', 'Height', 'Whole_weight', 'Shucked_weight', 'Viscera_weight', 'Shell_weight'])"
   ]
  },
  {
   "cell_type": "markdown",
   "metadata": {},
   "source": [
    "Because both the train and test datasets show similar distribution patterns for all the feature variables, while the original dataset different, we only consider the train dataset before inferring on test dataset."
   ]
  },
  {
   "cell_type": "code",
   "execution_count": 5,
   "metadata": {
    "execution": {
     "iopub.execute_input": "2024-04-30T12:18:37.024675Z",
     "iopub.status.busy": "2024-04-30T12:18:37.024292Z",
     "iopub.status.idle": "2024-04-30T12:18:37.034926Z",
     "shell.execute_reply": "2024-04-30T12:18:37.033570Z",
     "shell.execute_reply.started": "2024-04-30T12:18:37.024647Z"
    }
   },
   "outputs": [],
   "source": [
    "train = pd.concat([train, original], axis=0)"
   ]
  },
  {
   "cell_type": "code",
   "execution_count": 6,
   "metadata": {
    "execution": {
     "iopub.execute_input": "2024-04-30T12:18:38.896559Z",
     "iopub.status.busy": "2024-04-30T12:18:38.896158Z",
     "iopub.status.idle": "2024-04-30T12:18:38.944470Z",
     "shell.execute_reply": "2024-04-30T12:18:38.943141Z",
     "shell.execute_reply.started": "2024-04-30T12:18:38.896529Z"
    }
   },
   "outputs": [],
   "source": [
    "train.drop_duplicates(inplace=True)"
   ]
  },
  {
   "cell_type": "code",
   "execution_count": 7,
   "metadata": {
    "execution": {
     "iopub.execute_input": "2024-04-30T12:18:40.858809Z",
     "iopub.status.busy": "2024-04-30T12:18:40.858219Z",
     "iopub.status.idle": "2024-04-30T12:18:40.881610Z",
     "shell.execute_reply": "2024-04-30T12:18:40.880023Z",
     "shell.execute_reply.started": "2024-04-30T12:18:40.858771Z"
    }
   },
   "outputs": [
    {
     "data": {
      "text/plain": [
       "0"
      ]
     },
     "execution_count": 7,
     "metadata": {},
     "output_type": "execute_result"
    }
   ],
   "source": [
    "# No missing values in the training dataset.\n",
    "train.isna().sum().sum()"
   ]
  },
  {
   "cell_type": "code",
   "execution_count": null,
   "metadata": {},
   "outputs": [],
   "source": [
    "def plot_hist_distributions(df, numcols=3, fig_kwargs = dict()):\n",
    "    fig, axes = plt.subplots(1+len(df.columns)//numcols, numcols, **fig_kwargs)\n",
    "    for col, ax in zip(df.columns, axes.flatten()):\n",
    "        sns.histplot(df[col], ax=ax, bins=30)\n",
    "        #ax.set_title(col, size=10)\n",
    "    plt.tight_layout()"
   ]
  },
  {
   "cell_type": "code",
   "execution_count": null,
   "metadata": {},
   "outputs": [],
   "source": [
    "plot_hist_distributions(train, fig_kwargs={'figsize':[12,8]})"
   ]
  },
  {
   "cell_type": "markdown",
   "metadata": {},
   "source": [
    "skewness < 0: Length and Diameter,\n",
    "skewness > 0: Whole_weight, Shucked_weight, Viscera_weight, Shell_weight and Rings,\n",
    "skewness ~0 : Height."
   ]
  },
  {
   "cell_type": "markdown",
   "metadata": {},
   "source": [
    "# 3. Removing Outliers"
   ]
  },
  {
   "cell_type": "code",
   "execution_count": null,
   "metadata": {},
   "outputs": [],
   "source": [
    "def plot_scatter_distributions(df, numcols=3, fig_kwargs = dict()):\n",
    "    fig, axes = plt.subplots(1+len(df.columns)//numcols, numcols, **fig_kwargs)\n",
    "    for col, ax in zip(df.columns, axes.flatten()):\n",
    "        sns.scatterplot(df, x=col, y='Rings', ax=ax)\n",
    "        #ax.set_title(col, size=10)\n",
    "    plt.tight_layout()"
   ]
  },
  {
   "cell_type": "code",
   "execution_count": null,
   "metadata": {},
   "outputs": [],
   "source": [
    "train_scatter = train.drop(['Sex'], axis=1)\n",
    "plot_scatter_distributions(train_scatter, fig_kwargs={'figsize':[12,8]})"
   ]
  },
  {
   "cell_type": "code",
   "execution_count": 8,
   "metadata": {
    "execution": {
     "iopub.execute_input": "2024-04-30T12:18:47.342465Z",
     "iopub.status.busy": "2024-04-30T12:18:47.342075Z",
     "iopub.status.idle": "2024-04-30T12:18:47.517512Z",
     "shell.execute_reply": "2024-04-30T12:18:47.516166Z",
     "shell.execute_reply.started": "2024-04-30T12:18:47.342436Z"
    }
   },
   "outputs": [],
   "source": [
    "train.drop(train[(train['Rings']==29)&(train['Length']<0.4)].index, inplace=True)\n",
    "train.drop(train[train['Height'] > 0.4].index, inplace=True)\n",
    "# The same as train[(train['Rings']<5)&(train['Shell_weight'] > 0.4)].index\n",
    "train.drop(train[(train['Rings']<5)&(train['Whole_weight']>1.5)].index, inplace=True)\n",
    "train.drop(train[train['Viscera_weight'] > 0.7].index, inplace=True)"
   ]
  },
  {
   "cell_type": "markdown",
   "metadata": {},
   "source": [
    "# 4. Add new features."
   ]
  },
  {
   "cell_type": "code",
   "execution_count": null,
   "metadata": {},
   "outputs": [],
   "source": [
    "def new_features(data):\n",
    "    df = data.copy()\n",
    "    \n",
    "    # Clean the weights by capping the over weights with total body weights\n",
    "    df['Shell_weight'] = np.where(df['Shell_weight'] > df['Whole_weight'], df['Whole_weight'], df['Shell_weight'])\n",
    "    df['Viscera_weight'] = np.where(df['Viscera_weight'] > df['Whole_weight'], df['Whole_weight'], df['Viscera_weight'])\n",
    "    df['Shucked_weight'] = np.where(df['Shucked_weight'] > df['Whole_weight'], df['Whole_weight'], df['Shucked_weight'])\n",
    "\n",
    "    # Abalone density approx\n",
    "    df['Approx_density'] = df['Whole_weight'] / (df['Length'] * df['Diameter'] * df['Height'] + 1e-5)\n",
    "\n",
    "    # Abalone BMI\n",
    "    df['BMI'] = df['Whole_weight'] / (df['Height']**2+1e-5)\n",
    "\n",
    "    # Measurement derived\n",
    "    df['D_L_ratio'] = df['Diameter'] / (df['Length'] + 1e-5)\n",
    "    df['H_L_ratio'] = df['Height'] / (df['Length'] + 1e-5)\n",
    "    df['Shell_Shuck_ratio'] = df[\"Shell_weight\"] / (df[\"Shucked_weight\"] + 1e-5)\n",
    "    df['Shell_Viscera_ratio'] = df['Shell_weight'] / (df['Viscera_weight'] + 1e-5)\n",
    "\n",
    "    df['Viscera_Whole_ratio'] = df['Viscera_weight'] / (df['Whole_weight']  +1e-5)\n",
    "    df['Shell_Whole_ratio'] = df['Shell_weight'] / (df['Whole_weight']    +1e-5)\n",
    "    df['Shuck_Whole_ratio'] = df['Shucked_weight'] / (df['Whole_weight']   +1e-5)\n",
    "\n",
    "    # Water Loss during experiment\n",
    "    df[\"water_loss\"] = df[\"Whole_weight\"] - df[\"Shucked_weight\"] - df['Viscera_weight'] - df['Shell_weight']\n",
    "    df[\"water_loss\"] = np.where(df[\"water_loss\"]<0, min(df[\"Shucked_weight\"].min(), df[\"Viscera_weight\"].min(), df[\"Shell_weight\"].min()), df[\"water_loss\"])\n",
    "    \n",
    "    df['Med_Height'] = df.groupby('Sex')['Height'].transform('median')\n",
    "    df['Med_Shell_weight'] = df.groupby('Sex')['Shell_weight'].transform('median')\n",
    "    \n",
    "    return df"
   ]
  },
  {
   "cell_type": "code",
   "execution_count": null,
   "metadata": {},
   "outputs": [],
   "source": [
    "#train=new_features(train)\n",
    "#test=new_features(test)"
   ]
  },
  {
   "cell_type": "markdown",
   "metadata": {},
   "source": [
    "# 5. Normalize the target variable."
   ]
  },
  {
   "cell_type": "code",
   "execution_count": null,
   "metadata": {},
   "outputs": [],
   "source": [
    "#We use the numpy fuction log1p which  applies log(1+x) to all elements of the column\n",
    "#train[\"Rings\"] = np.log1p(train[\"Rings\"])"
   ]
  },
  {
   "cell_type": "code",
   "execution_count": null,
   "metadata": {},
   "outputs": [],
   "source": [
    "#Check the new distribution \n",
    "#sns.histplot(train[\"Rings\"], kde=True, stat=\"density\", kde_kws=dict(cut=3), alpha=.4, edgecolor=(1, 1, 1, .4), bins=30);\n",
    "\n",
    "# Get the fitted parameters used by the function\n",
    "#(mu, sigma) = norm.fit(train[\"Rings\"])\n",
    "#print( '\\n mu = {:.2f} and sigma = {:.2f}\\n'.format(mu, sigma))\n",
    "\n",
    "# Plot the PDF. \n",
    "#xmin, xmax = plt.xlim() \n",
    "#x = np.linspace(xmin, xmax, 100) \n",
    "#p = norm.pdf(x, mu, sigma) \n",
    "  \n",
    "#plt.plot(x, p, 'k', linewidth=2) \n",
    "#plt.legend(['Normal dist. ($\\mu=$ {:.2f} and $\\sigma=$ {:.2f} )'.format(mu, sigma)], loc='best')\n",
    "#plt.title('Rings distribution')\n",
    "\n",
    "#Get also the QQ-plot\n",
    "#fig = plt.figure()\n",
    "#res = stats.probplot(train[\"Rings\"], plot=plt)\n",
    "#plt.show()"
   ]
  },
  {
   "cell_type": "markdown",
   "metadata": {},
   "source": [
    "# 6. Normalize all numerical independent variables."
   ]
  },
  {
   "cell_type": "code",
   "execution_count": 9,
   "metadata": {
    "execution": {
     "iopub.execute_input": "2024-04-30T12:18:57.217136Z",
     "iopub.status.busy": "2024-04-30T12:18:57.216711Z",
     "iopub.status.idle": "2024-04-30T12:18:57.230695Z",
     "shell.execute_reply": "2024-04-30T12:18:57.226936Z",
     "shell.execute_reply.started": "2024-04-30T12:18:57.217101Z"
    }
   },
   "outputs": [],
   "source": [
    "X_train = train.drop('Rings', axis=1)\n",
    "y_train = train['Rings']"
   ]
  },
  {
   "cell_type": "code",
   "execution_count": 10,
   "metadata": {
    "execution": {
     "iopub.execute_input": "2024-04-30T12:19:00.072590Z",
     "iopub.status.busy": "2024-04-30T12:19:00.072167Z",
     "iopub.status.idle": "2024-04-30T12:19:00.119905Z",
     "shell.execute_reply": "2024-04-30T12:19:00.118032Z",
     "shell.execute_reply.started": "2024-04-30T12:19:00.072560Z"
    }
   },
   "outputs": [
    {
     "name": "stdout",
     "output_type": "stream",
     "text": [
      "\n",
      " Skewness in all numerical independent variables: \n",
      "\n"
     ]
    },
    {
     "data": {
      "text/html": [
       "<div>\n",
       "<style scoped>\n",
       "    .dataframe tbody tr th:only-of-type {\n",
       "        vertical-align: middle;\n",
       "    }\n",
       "\n",
       "    .dataframe tbody tr th {\n",
       "        vertical-align: top;\n",
       "    }\n",
       "\n",
       "    .dataframe thead th {\n",
       "        text-align: right;\n",
       "    }\n",
       "</style>\n",
       "<table border=\"1\" class=\"dataframe\">\n",
       "  <thead>\n",
       "    <tr style=\"text-align: right;\">\n",
       "      <th></th>\n",
       "      <th>Skewness</th>\n",
       "    </tr>\n",
       "  </thead>\n",
       "  <tbody>\n",
       "    <tr>\n",
       "      <th>Length</th>\n",
       "      <td>-0.727601</td>\n",
       "    </tr>\n",
       "    <tr>\n",
       "      <th>Diameter</th>\n",
       "      <td>-0.691166</td>\n",
       "    </tr>\n",
       "    <tr>\n",
       "      <th>Height</th>\n",
       "      <td>-0.270921</td>\n",
       "    </tr>\n",
       "    <tr>\n",
       "      <th>Whole_weight</th>\n",
       "      <td>0.434817</td>\n",
       "    </tr>\n",
       "    <tr>\n",
       "      <th>Shucked_weight</th>\n",
       "      <td>0.599726</td>\n",
       "    </tr>\n",
       "    <tr>\n",
       "      <th>Viscera_weight</th>\n",
       "      <td>0.481997</td>\n",
       "    </tr>\n",
       "    <tr>\n",
       "      <th>Shell_weight</th>\n",
       "      <td>0.488141</td>\n",
       "    </tr>\n",
       "  </tbody>\n",
       "</table>\n",
       "</div>"
      ],
      "text/plain": [
       "                Skewness\n",
       "Length         -0.727601\n",
       "Diameter       -0.691166\n",
       "Height         -0.270921\n",
       "Whole_weight    0.434817\n",
       "Shucked_weight  0.599726\n",
       "Viscera_weight  0.481997\n",
       "Shell_weight    0.488141"
      ]
     },
     "execution_count": 10,
     "metadata": {},
     "output_type": "execute_result"
    }
   ],
   "source": [
    "numeric_features = X_train.dtypes[X_train.dtypes != \"object\"].index\n",
    "print('\\n Skewness in all numerical independent variables: \\n')\n",
    "skewness_info = pd.DataFrame({'Skewness': X_train[numeric_features].apply(lambda x: skew(x))})\n",
    "skewness_info.head(30)"
   ]
  },
  {
   "cell_type": "code",
   "execution_count": 11,
   "metadata": {
    "execution": {
     "iopub.execute_input": "2024-04-30T12:19:04.702802Z",
     "iopub.status.busy": "2024-04-30T12:19:04.701488Z",
     "iopub.status.idle": "2024-04-30T12:19:04.711352Z",
     "shell.execute_reply": "2024-04-30T12:19:04.709610Z",
     "shell.execute_reply.started": "2024-04-30T12:19:04.702757Z"
    }
   },
   "outputs": [
    {
     "name": "stdout",
     "output_type": "stream",
     "text": [
      "There are 0 skewed numerical features to Box Cox transform\n"
     ]
    }
   ],
   "source": [
    "df = skewness_info[abs(skewness_info['Skewness']) > 0.75]\n",
    "print(\"There are {} skewed numerical features to Box Cox transform\".format(df.shape[0]))"
   ]
  },
  {
   "cell_type": "code",
   "execution_count": null,
   "metadata": {},
   "outputs": [],
   "source": [
    "# Because there are 0 values in the Height column, we can not use stats.boxcox.\n",
    "#skewed_features = df.index\n",
    "#for i in skewed_features:\n",
    "#    X_train[i] = boxcox1p(X_train[i], boxcox_normmax(X_train[i] + 1, method='mle'))"
   ]
  },
  {
   "cell_type": "code",
   "execution_count": null,
   "metadata": {},
   "outputs": [],
   "source": [
    "# Distributions tend to be normal.\n",
    "#plot_hist_distributions(X_train, fig_kwargs={'figsize':[12,8]})\n",
    "#plot_scatter_distributions(pd.concat([X_train.drop(['Sex'], axis=1), y_train], axis=1), fig_kwargs={'figsize':[12,8]})"
   ]
  },
  {
   "cell_type": "code",
   "execution_count": 12,
   "metadata": {
    "execution": {
     "iopub.execute_input": "2024-04-30T12:19:09.039727Z",
     "iopub.status.busy": "2024-04-30T12:19:09.039245Z",
     "iopub.status.idle": "2024-04-30T12:19:09.069089Z",
     "shell.execute_reply": "2024-04-30T12:19:09.067731Z",
     "shell.execute_reply.started": "2024-04-30T12:19:09.039697Z"
    }
   },
   "outputs": [],
   "source": [
    "X_train = pd.get_dummies(X_train, columns=['Sex'], dtype=float)"
   ]
  },
  {
   "cell_type": "code",
   "execution_count": null,
   "metadata": {},
   "outputs": [],
   "source": [
    "#numeric_cols = pd.concat([X_train, y_train], axis=1).select_dtypes(include='number')\n",
    "#corrmat = numeric_cols.corr()\n",
    "#plt.subplots(figsize=(15,15))\n",
    "#sns.heatmap(corrmat, vmax=0.9, square=True, annot=True)"
   ]
  },
  {
   "cell_type": "markdown",
   "metadata": {},
   "source": [
    "# 7. Compare Models"
   ]
  },
  {
   "cell_type": "markdown",
   "metadata": {},
   "source": [
    "Because RandomForestRegressor runs slowly, we choose the other four tree-based models."
   ]
  },
  {
   "cell_type": "code",
   "execution_count": 13,
   "metadata": {
    "execution": {
     "iopub.execute_input": "2024-04-30T12:19:12.772657Z",
     "iopub.status.busy": "2024-04-30T12:19:12.772256Z",
     "iopub.status.idle": "2024-04-30T12:19:12.779774Z",
     "shell.execute_reply": "2024-04-30T12:19:12.778058Z",
     "shell.execute_reply.started": "2024-04-30T12:19:12.772628Z"
    }
   },
   "outputs": [],
   "source": [
    "#cv = KFold(n_splits=10, shuffle=True, random_state=42)\n",
    "\n",
    "#def score_cv(model):\n",
    "#    return -cross_val_score(model, X_train, y_train, scoring=\"neg_root_mean_squared_error\", cv=cv)\n",
    "\n",
    "# We define a rmsle evaluation function\n",
    "def evaluation_metric(y, y_pred):\n",
    "    rmsle = mean_squared_log_error(y, y_pred, squared=False)\n",
    "    return rmsle"
   ]
  },
  {
   "cell_type": "code",
   "execution_count": null,
   "metadata": {},
   "outputs": [],
   "source": [
    "#model_randomforest = RandomForestRegressor()\n",
    "#score = score_cv(model_randomforest)\n",
    "#print(\"\\n RandomForestRegressor score: {:.4f} ({:.4f})\\n\".format(score.mean(), score.std()))\n",
    "\n",
    "#model_randomforest.fit(X_train, y_train)\n",
    "#train_pred_randomforest = model_randomforest.predict(X_train)\n",
    "#print(evaluation_metric(y_train, train_pred_randomforest))"
   ]
  },
  {
   "cell_type": "markdown",
   "metadata": {
    "execution": {
     "iopub.execute_input": "2024-04-26T14:48:49.962603Z",
     "iopub.status.busy": "2024-04-26T14:48:49.962148Z",
     "iopub.status.idle": "2024-04-26T14:49:04.040842Z",
     "shell.execute_reply": "2024-04-26T14:49:04.039219Z",
     "shell.execute_reply.started": "2024-04-26T14:48:49.962570Z"
    }
   },
   "source": [
    "model_ridge = make_pipeline(RobustScaler(), RidgeCV(cv=cv))\n",
    "score = score_cv(model_ridge)\n",
    "print(\"\\n Ridge score: {:.4f} ({:.4f})\\n\".format(score.mean(), score.std()))\n",
    "\n",
    "model_ridge.fit(X_train, y_train)\n",
    "train_pred_ridge = model_ridge.predict(X_train)\n",
    "print(evaluation_metric(y_train, train_pred_ridge))"
   ]
  },
  {
   "cell_type": "markdown",
   "metadata": {
    "execution": {
     "iopub.execute_input": "2024-04-26T14:49:04.044836Z",
     "iopub.status.busy": "2024-04-26T14:49:04.043745Z",
     "iopub.status.idle": "2024-04-26T14:49:18.815520Z",
     "shell.execute_reply": "2024-04-26T14:49:18.814036Z",
     "shell.execute_reply.started": "2024-04-26T14:49:04.044762Z"
    }
   },
   "source": [
    "model_histgradientboost = HistGradientBoostingRegressor()\n",
    "score = score_cv(model_histgradientboost)\n",
    "print(\"\\n HistGradientBoostingRegressor score: {:.4f} ({:.4f})\\n\".format(score.mean(), score.std()))\n",
    "\n",
    "model_histgradientboost.fit(X_train, y_train)\n",
    "train_pred_histgradientboost = model_histgradientboost.predict(X_train)\n",
    "print(evaluation_metric(y_train, train_pred_histgradientboost))"
   ]
  },
  {
   "cell_type": "markdown",
   "metadata": {
    "execution": {
     "iopub.execute_input": "2024-04-26T14:49:18.823360Z",
     "iopub.status.busy": "2024-04-26T14:49:18.820258Z",
     "iopub.status.idle": "2024-04-26T14:49:31.547775Z",
     "shell.execute_reply": "2024-04-26T14:49:31.546887Z",
     "shell.execute_reply.started": "2024-04-26T14:49:18.823291Z"
    }
   },
   "source": [
    "model_lightgbm = LGBMRegressor(force_col_wise=True, verbose=-1)\n",
    "score = score_cv(model_lightgbm)\n",
    "print(\"\\n LGBMRegressor score: {:.4f} ({:.4f})\\n\".format(score.mean(), score.std()))\n",
    "\n",
    "model_lightgbm.fit(X_train, y_train)\n",
    "train_pred_lightgbm = model_lightgbm.predict(X_train)\n",
    "print(evaluation_metric(y_train, train_pred_lightgbm))"
   ]
  },
  {
   "cell_type": "markdown",
   "metadata": {
    "execution": {
     "iopub.execute_input": "2024-04-26T14:49:31.549575Z",
     "iopub.status.busy": "2024-04-26T14:49:31.549197Z",
     "iopub.status.idle": "2024-04-26T14:49:43.943945Z",
     "shell.execute_reply": "2024-04-26T14:49:43.942404Z",
     "shell.execute_reply.started": "2024-04-26T14:49:31.549544Z"
    }
   },
   "source": [
    "model_xgboost = XGBRegressor()\n",
    "score = score_cv(model_xgboost)\n",
    "print(\"\\n XGBRegressor score: {:.4f} ({:.4f})\\n\".format(score.mean(), score.std()))\n",
    "\n",
    "model_xgboost.fit(X_train, y_train)\n",
    "train_pred_xgboost = model_xgboost.predict(X_train)\n",
    "print(evaluation_metric(y_train, train_pred_xgboost))"
   ]
  },
  {
   "cell_type": "markdown",
   "metadata": {
    "execution": {
     "iopub.execute_input": "2024-04-26T14:49:43.946234Z",
     "iopub.status.busy": "2024-04-26T14:49:43.945869Z",
     "iopub.status.idle": "2024-04-26T14:51:30.611521Z",
     "shell.execute_reply": "2024-04-26T14:51:30.610016Z",
     "shell.execute_reply.started": "2024-04-26T14:49:43.946205Z"
    }
   },
   "source": [
    "model_catboost = CatBoostRegressor(verbose=False)\n",
    "score = score_cv(model_catboost)\n",
    "print(\"\\n CatBoostRegressor score: {:.4f} ({:.4f})\\n\".format(score.mean(), score.std()))\n",
    "\n",
    "model_catboost.fit(X_train, y_train)\n",
    "train_pred_catboost = model_catboost.predict(X_train)\n",
    "print(evaluation_metric(y_train, train_pred_catboost))"
   ]
  },
  {
   "cell_type": "code",
   "execution_count": null,
   "metadata": {},
   "outputs": [],
   "source": [
    "#level0 = list()\n",
    "#level0.append(('ridge', model_ridge))\n",
    "#level0.append(('hgb', model_histgradientboost))\n",
    "#level0.append(('lgbm', model_lightgbm))\n",
    "#level0.append(('xgb', model_xgboost))\n",
    "#level0.append(('cb', model_catboost))\n",
    "# define meta learner model\n",
    "#level1 = model_catboost\n",
    "#model_stacking = StackingRegressor(estimators=level0, final_estimator=level1, cv=5)\n",
    "\n",
    "#score = score_cv(model_stacking)\n",
    "#print(\"\\n StackingRegressor score: {:.4f} ({:.4f})\".format(score.mean(), score.std()))\n",
    "\n",
    "#model_stacking.fit(X_train, y_train)\n",
    "#train_pred_stacking = model_stacking.predict(X_train)\n",
    "#print(evaluation_metric(y_train, train_pred_stacking))"
   ]
  },
  {
   "cell_type": "markdown",
   "metadata": {
    "execution": {
     "iopub.execute_input": "2024-04-26T14:51:30.625274Z",
     "iopub.status.busy": "2024-04-26T14:51:30.624931Z",
     "iopub.status.idle": "2024-04-26T14:54:00.335067Z",
     "shell.execute_reply": "2024-04-26T14:54:00.333427Z",
     "shell.execute_reply.started": "2024-04-26T14:51:30.625245Z"
    }
   },
   "source": [
    "model_voting = VotingRegressor([('hgb', model_histgradientboost), ('lgbm', model_lightgbm), ('xgb', model_xgboost), ('cb', model_catboost)])\n",
    "score = score_cv(model_voting)\n",
    "print(\"\\n VotingRegressor score: {:.4f} ({:.4f})\".format(score.mean(), score.std()))\n",
    "\n",
    "model_voting.fit(X_train, y_train)\n",
    "train_pred_voting = model_voting.predict(X_train)\n",
    "print(evaluation_metric(y_train, train_pred_voting))"
   ]
  },
  {
   "cell_type": "markdown",
   "metadata": {
    "execution": {
     "iopub.execute_input": "2024-04-26T14:54:00.337509Z",
     "iopub.status.busy": "2024-04-26T14:54:00.337112Z",
     "iopub.status.idle": "2024-04-26T14:54:00.344295Z",
     "shell.execute_reply": "2024-04-26T14:54:00.343381Z",
     "shell.execute_reply.started": "2024-04-26T14:54:00.337473Z"
    }
   },
   "source": [
    "evaluation metric on train dataset\n",
    "train_pred =  train_pred_voting\n",
    "print(evaluation_metric(y_train, train_pred))"
   ]
  },
  {
   "cell_type": "markdown",
   "metadata": {},
   "source": [
    "# 8. Fine-tune models"
   ]
  },
  {
   "cell_type": "markdown",
   "metadata": {},
   "source": [
    "We will use Optuna to fine-tune four models: model_histgradientboost, model_lightgbm, model_xgboost and model_catboost."
   ]
  },
  {
   "cell_type": "code",
   "execution_count": 14,
   "metadata": {
    "execution": {
     "iopub.execute_input": "2024-04-30T12:19:18.386061Z",
     "iopub.status.busy": "2024-04-30T12:19:18.385589Z",
     "iopub.status.idle": "2024-04-30T12:19:18.476032Z",
     "shell.execute_reply": "2024-04-30T12:19:18.474670Z",
     "shell.execute_reply.started": "2024-04-30T12:19:18.386025Z"
    }
   },
   "outputs": [],
   "source": [
    "# stratify parameter keeps the ratio of Rings same all across the Dataset\n",
    "X_tr, X_te, y_tr, y_te = train_test_split(X_train, y_train, test_size=0.3, random_state=42, stratify=y_train)\n",
    "X_val, X_te, y_val, y_te = train_test_split(X_te, y_te, test_size=0.5, random_state=42, stratify=y_te)"
   ]
  },
  {
   "cell_type": "markdown",
   "metadata": {},
   "source": [
    "# # 8.1 XGBoost"
   ]
  },
  {
   "cell_type": "code",
   "execution_count": 15,
   "metadata": {
    "execution": {
     "iopub.execute_input": "2024-04-30T12:19:21.639968Z",
     "iopub.status.busy": "2024-04-30T12:19:21.639544Z",
     "iopub.status.idle": "2024-04-30T12:19:21.655080Z",
     "shell.execute_reply": "2024-04-30T12:19:21.653598Z",
     "shell.execute_reply.started": "2024-04-30T12:19:21.639938Z"
    }
   },
   "outputs": [
    {
     "name": "stderr",
     "output_type": "stream",
     "text": [
      "[I 2024-04-30 12:19:21,648] A new study created in memory with name: XgbRegressor\n"
     ]
    }
   ],
   "source": [
    "def xgb_objective(trial):\n",
    "    params = {\n",
    "        \"eta\": trial.suggest_float(\"eta\", 0.01, 1.0),\n",
    "        \"gamma\": 0.0,\n",
    "        \"max_depth\": trial.suggest_int(\"max_depth\", 3, 20),\n",
    "        \"min_child_weight\": trial.suggest_float(\"min_child_weight\", 1., 50.),\n",
    "        \"subsample\": trial.suggest_float(\"subsample\", 0.5, 1.0),\n",
    "        \"colsample_bytree\": trial.suggest_float(\"colsample_bytree\", 0.5, 1.0),\n",
    "        \"reg_lambda\": trial.suggest_float(\"lambda\", 1.0, 100.0),\n",
    "        \"n_estimators\": trial.suggest_int(\"n_estimators\", 100, 1000)\n",
    "    }\n",
    "    \n",
    "    xgb_reg = TransformedTargetRegressor(XGBRegressor(**params, objective='reg:squarederror', grow_policy='lossguide',\n",
    "                                                         tree_method=\"hist\", random_state=42),\n",
    "                                                         func=np.log1p,\n",
    "                                                         inverse_func=np.expm1)\n",
    "    \n",
    "    xgb_reg.fit(X_tr, y_tr, eval_set=[(X_val, y_val)], verbose=False)\n",
    "    \n",
    "    val_scores = evaluation_metric(y_val, xgb_reg.predict(X_val))\n",
    "    return val_scores\n",
    "\n",
    "sampler = optuna.samplers.TPESampler(seed=42)  # Using Tree-structured Parzen Estimator sampler for optimization\n",
    "xgb_study = optuna.create_study(direction = 'minimize',study_name=\"XgbRegressor\", sampler=sampler)"
   ]
  },
  {
   "cell_type": "code",
   "execution_count": 16,
   "metadata": {
    "execution": {
     "iopub.execute_input": "2024-04-30T12:19:24.827815Z",
     "iopub.status.busy": "2024-04-30T12:19:24.827381Z",
     "iopub.status.idle": "2024-04-30T12:19:24.833155Z",
     "shell.execute_reply": "2024-04-30T12:19:24.831951Z",
     "shell.execute_reply.started": "2024-04-30T12:19:24.827785Z"
    }
   },
   "outputs": [],
   "source": [
    "# Set TUNE parameter to True in case you want to run Hyper Parameter Tuning\n",
    "TUNE = False\n",
    "if TUNE:\n",
    "    xgb_study.optimize(xgb_objective, n_trials=1000)"
   ]
  },
  {
   "cell_type": "markdown",
   "metadata": {},
   "source": [
    "XGBoost 1"
   ]
  },
  {
   "cell_type": "code",
   "execution_count": 17,
   "metadata": {
    "execution": {
     "iopub.execute_input": "2024-04-30T12:19:30.142813Z",
     "iopub.status.busy": "2024-04-30T12:19:30.142409Z",
     "iopub.status.idle": "2024-04-30T12:19:30.150199Z",
     "shell.execute_reply": "2024-04-30T12:19:30.148766Z",
     "shell.execute_reply.started": "2024-04-30T12:19:30.142782Z"
    }
   },
   "outputs": [],
   "source": [
    "xgb_best_params_1 = {\n",
    "    'eta': 0.010005505674323728,\n",
    "    'max_depth': 10,\n",
    "    'min_child_weight': 12.87582166258377,\n",
    "    'subsample': 0.8415240730082273,\n",
    "    'colsample_bytree': 0.6803730288580919,\n",
    "    'lambda': 8.565844294512017,\n",
    "    'n_estimators': 982\n",
    "}"
   ]
  },
  {
   "cell_type": "code",
   "execution_count": 18,
   "metadata": {
    "execution": {
     "iopub.execute_input": "2024-04-30T12:19:32.075956Z",
     "iopub.status.busy": "2024-04-30T12:19:32.075547Z",
     "iopub.status.idle": "2024-04-30T12:19:32.082745Z",
     "shell.execute_reply": "2024-04-30T12:19:32.081441Z",
     "shell.execute_reply.started": "2024-04-30T12:19:32.075925Z"
    }
   },
   "outputs": [],
   "source": [
    "xgb_reg_1 = TransformedTargetRegressor(XGBRegressor(**xgb_best_params_1, objective='reg:squarederror', grow_policy='lossguide',\n",
    "                                                 tree_method=\"hist\", random_state=42, gamma=0.0),\n",
    "                                                         func=np.log1p,\n",
    "                                                         inverse_func=np.expm1)"
   ]
  },
  {
   "cell_type": "code",
   "execution_count": 19,
   "metadata": {
    "execution": {
     "iopub.execute_input": "2024-04-30T12:19:34.361670Z",
     "iopub.status.busy": "2024-04-30T12:19:34.361263Z",
     "iopub.status.idle": "2024-04-30T12:19:52.037511Z",
     "shell.execute_reply": "2024-04-30T12:19:52.036061Z",
     "shell.execute_reply.started": "2024-04-30T12:19:34.361640Z"
    }
   },
   "outputs": [
    {
     "data": {
      "text/html": [
       "<style>#sk-container-id-1 {color: black;background-color: white;}#sk-container-id-1 pre{padding: 0;}#sk-container-id-1 div.sk-toggleable {background-color: white;}#sk-container-id-1 label.sk-toggleable__label {cursor: pointer;display: block;width: 100%;margin-bottom: 0;padding: 0.3em;box-sizing: border-box;text-align: center;}#sk-container-id-1 label.sk-toggleable__label-arrow:before {content: \"▸\";float: left;margin-right: 0.25em;color: #696969;}#sk-container-id-1 label.sk-toggleable__label-arrow:hover:before {color: black;}#sk-container-id-1 div.sk-estimator:hover label.sk-toggleable__label-arrow:before {color: black;}#sk-container-id-1 div.sk-toggleable__content {max-height: 0;max-width: 0;overflow: hidden;text-align: left;background-color: #f0f8ff;}#sk-container-id-1 div.sk-toggleable__content pre {margin: 0.2em;color: black;border-radius: 0.25em;background-color: #f0f8ff;}#sk-container-id-1 input.sk-toggleable__control:checked~div.sk-toggleable__content {max-height: 200px;max-width: 100%;overflow: auto;}#sk-container-id-1 input.sk-toggleable__control:checked~label.sk-toggleable__label-arrow:before {content: \"▾\";}#sk-container-id-1 div.sk-estimator input.sk-toggleable__control:checked~label.sk-toggleable__label {background-color: #d4ebff;}#sk-container-id-1 div.sk-label input.sk-toggleable__control:checked~label.sk-toggleable__label {background-color: #d4ebff;}#sk-container-id-1 input.sk-hidden--visually {border: 0;clip: rect(1px 1px 1px 1px);clip: rect(1px, 1px, 1px, 1px);height: 1px;margin: -1px;overflow: hidden;padding: 0;position: absolute;width: 1px;}#sk-container-id-1 div.sk-estimator {font-family: monospace;background-color: #f0f8ff;border: 1px dotted black;border-radius: 0.25em;box-sizing: border-box;margin-bottom: 0.5em;}#sk-container-id-1 div.sk-estimator:hover {background-color: #d4ebff;}#sk-container-id-1 div.sk-parallel-item::after {content: \"\";width: 100%;border-bottom: 1px solid gray;flex-grow: 1;}#sk-container-id-1 div.sk-label:hover label.sk-toggleable__label {background-color: #d4ebff;}#sk-container-id-1 div.sk-serial::before {content: \"\";position: absolute;border-left: 1px solid gray;box-sizing: border-box;top: 0;bottom: 0;left: 50%;z-index: 0;}#sk-container-id-1 div.sk-serial {display: flex;flex-direction: column;align-items: center;background-color: white;padding-right: 0.2em;padding-left: 0.2em;position: relative;}#sk-container-id-1 div.sk-item {position: relative;z-index: 1;}#sk-container-id-1 div.sk-parallel {display: flex;align-items: stretch;justify-content: center;background-color: white;position: relative;}#sk-container-id-1 div.sk-item::before, #sk-container-id-1 div.sk-parallel-item::before {content: \"\";position: absolute;border-left: 1px solid gray;box-sizing: border-box;top: 0;bottom: 0;left: 50%;z-index: -1;}#sk-container-id-1 div.sk-parallel-item {display: flex;flex-direction: column;z-index: 1;position: relative;background-color: white;}#sk-container-id-1 div.sk-parallel-item:first-child::after {align-self: flex-end;width: 50%;}#sk-container-id-1 div.sk-parallel-item:last-child::after {align-self: flex-start;width: 50%;}#sk-container-id-1 div.sk-parallel-item:only-child::after {width: 0;}#sk-container-id-1 div.sk-dashed-wrapped {border: 1px dashed gray;margin: 0 0.4em 0.5em 0.4em;box-sizing: border-box;padding-bottom: 0.4em;background-color: white;}#sk-container-id-1 div.sk-label label {font-family: monospace;font-weight: bold;display: inline-block;line-height: 1.2em;}#sk-container-id-1 div.sk-label-container {text-align: center;}#sk-container-id-1 div.sk-container {/* jupyter's `normalize.less` sets `[hidden] { display: none; }` but bootstrap.min.css set `[hidden] { display: none !important; }` so we also need the `!important` here to be able to override the default hidden behavior on the sphinx rendered scikit-learn.org. See: https://github.com/scikit-learn/scikit-learn/issues/21755 */display: inline-block !important;position: relative;}#sk-container-id-1 div.sk-text-repr-fallback {display: none;}</style><div id=\"sk-container-id-1\" class=\"sk-top-container\"><div class=\"sk-text-repr-fallback\"><pre>TransformedTargetRegressor(func=&lt;ufunc &#x27;log1p&#x27;&gt;, inverse_func=&lt;ufunc &#x27;expm1&#x27;&gt;,\n",
       "                           regressor=XGBRegressor(base_score=None, booster=None,\n",
       "                                                  callbacks=None,\n",
       "                                                  colsample_bylevel=None,\n",
       "                                                  colsample_bynode=None,\n",
       "                                                  colsample_bytree=0.6803730288580919,\n",
       "                                                  device=None,\n",
       "                                                  early_stopping_rounds=None,\n",
       "                                                  enable_categorical=False,\n",
       "                                                  eta=0.010005505674323728,\n",
       "                                                  eval_metric=None,\n",
       "                                                  feature_types=None, ga...\n",
       "                                                  grow_policy=&#x27;lossguide&#x27;,\n",
       "                                                  importance_type=None,\n",
       "                                                  interaction_constraints=None,\n",
       "                                                  lambda=8.565844294512017,\n",
       "                                                  learning_rate=None,\n",
       "                                                  max_bin=None,\n",
       "                                                  max_cat_threshold=None,\n",
       "                                                  max_cat_to_onehot=None,\n",
       "                                                  max_delta_step=None,\n",
       "                                                  max_depth=10, max_leaves=None,\n",
       "                                                  min_child_weight=12.87582166258377,\n",
       "                                                  missing=nan,\n",
       "                                                  monotone_constraints=None,\n",
       "                                                  multi_strategy=None,\n",
       "                                                  n_estimators=982, n_jobs=None, ...))</pre><b>In a Jupyter environment, please rerun this cell to show the HTML representation or trust the notebook. <br />On GitHub, the HTML representation is unable to render, please try loading this page with nbviewer.org.</b></div><div class=\"sk-container\" hidden><div class=\"sk-item sk-dashed-wrapped\"><div class=\"sk-label-container\"><div class=\"sk-label sk-toggleable\"><input class=\"sk-toggleable__control sk-hidden--visually\" id=\"sk-estimator-id-1\" type=\"checkbox\" ><label for=\"sk-estimator-id-1\" class=\"sk-toggleable__label sk-toggleable__label-arrow\">TransformedTargetRegressor</label><div class=\"sk-toggleable__content\"><pre>TransformedTargetRegressor(func=&lt;ufunc &#x27;log1p&#x27;&gt;, inverse_func=&lt;ufunc &#x27;expm1&#x27;&gt;,\n",
       "                           regressor=XGBRegressor(base_score=None, booster=None,\n",
       "                                                  callbacks=None,\n",
       "                                                  colsample_bylevel=None,\n",
       "                                                  colsample_bynode=None,\n",
       "                                                  colsample_bytree=0.6803730288580919,\n",
       "                                                  device=None,\n",
       "                                                  early_stopping_rounds=None,\n",
       "                                                  enable_categorical=False,\n",
       "                                                  eta=0.010005505674323728,\n",
       "                                                  eval_metric=None,\n",
       "                                                  feature_types=None, ga...\n",
       "                                                  grow_policy=&#x27;lossguide&#x27;,\n",
       "                                                  importance_type=None,\n",
       "                                                  interaction_constraints=None,\n",
       "                                                  lambda=8.565844294512017,\n",
       "                                                  learning_rate=None,\n",
       "                                                  max_bin=None,\n",
       "                                                  max_cat_threshold=None,\n",
       "                                                  max_cat_to_onehot=None,\n",
       "                                                  max_delta_step=None,\n",
       "                                                  max_depth=10, max_leaves=None,\n",
       "                                                  min_child_weight=12.87582166258377,\n",
       "                                                  missing=nan,\n",
       "                                                  monotone_constraints=None,\n",
       "                                                  multi_strategy=None,\n",
       "                                                  n_estimators=982, n_jobs=None, ...))</pre></div></div></div><div class=\"sk-parallel\"><div class=\"sk-parallel-item\"><div class=\"sk-item\"><div class=\"sk-label-container\"><div class=\"sk-label sk-toggleable\"><input class=\"sk-toggleable__control sk-hidden--visually\" id=\"sk-estimator-id-2\" type=\"checkbox\" ><label for=\"sk-estimator-id-2\" class=\"sk-toggleable__label sk-toggleable__label-arrow\">regressor: XGBRegressor</label><div class=\"sk-toggleable__content\"><pre>XGBRegressor(base_score=None, booster=None, callbacks=None,\n",
       "             colsample_bylevel=None, colsample_bynode=None,\n",
       "             colsample_bytree=0.6803730288580919, device=None,\n",
       "             early_stopping_rounds=None, enable_categorical=False,\n",
       "             eta=0.010005505674323728, eval_metric=None, feature_types=None,\n",
       "             gamma=0.0, grow_policy=&#x27;lossguide&#x27;, importance_type=None,\n",
       "             interaction_constraints=None, lambda=8.565844294512017,\n",
       "             learning_rate=None, max_bin=None, max_cat_threshold=None,\n",
       "             max_cat_to_onehot=None, max_delta_step=None, max_depth=10,\n",
       "             max_leaves=None, min_child_weight=12.87582166258377, missing=nan,\n",
       "             monotone_constraints=None, multi_strategy=None, n_estimators=982,\n",
       "             n_jobs=None, ...)</pre></div></div></div><div class=\"sk-serial\"><div class=\"sk-item\"><div class=\"sk-estimator sk-toggleable\"><input class=\"sk-toggleable__control sk-hidden--visually\" id=\"sk-estimator-id-3\" type=\"checkbox\" ><label for=\"sk-estimator-id-3\" class=\"sk-toggleable__label sk-toggleable__label-arrow\">XGBRegressor</label><div class=\"sk-toggleable__content\"><pre>XGBRegressor(base_score=None, booster=None, callbacks=None,\n",
       "             colsample_bylevel=None, colsample_bynode=None,\n",
       "             colsample_bytree=0.6803730288580919, device=None,\n",
       "             early_stopping_rounds=None, enable_categorical=False,\n",
       "             eta=0.010005505674323728, eval_metric=None, feature_types=None,\n",
       "             gamma=0.0, grow_policy=&#x27;lossguide&#x27;, importance_type=None,\n",
       "             interaction_constraints=None, lambda=8.565844294512017,\n",
       "             learning_rate=None, max_bin=None, max_cat_threshold=None,\n",
       "             max_cat_to_onehot=None, max_delta_step=None, max_depth=10,\n",
       "             max_leaves=None, min_child_weight=12.87582166258377, missing=nan,\n",
       "             monotone_constraints=None, multi_strategy=None, n_estimators=982,\n",
       "             n_jobs=None, ...)</pre></div></div></div></div></div></div></div></div></div></div>"
      ],
      "text/plain": [
       "TransformedTargetRegressor(func=<ufunc 'log1p'>, inverse_func=<ufunc 'expm1'>,\n",
       "                           regressor=XGBRegressor(base_score=None, booster=None,\n",
       "                                                  callbacks=None,\n",
       "                                                  colsample_bylevel=None,\n",
       "                                                  colsample_bynode=None,\n",
       "                                                  colsample_bytree=0.6803730288580919,\n",
       "                                                  device=None,\n",
       "                                                  early_stopping_rounds=None,\n",
       "                                                  enable_categorical=False,\n",
       "                                                  eta=0.010005505674323728,\n",
       "                                                  eval_metric=None,\n",
       "                                                  feature_types=None, ga...\n",
       "                                                  grow_policy='lossguide',\n",
       "                                                  importance_type=None,\n",
       "                                                  interaction_constraints=None,\n",
       "                                                  lambda=8.565844294512017,\n",
       "                                                  learning_rate=None,\n",
       "                                                  max_bin=None,\n",
       "                                                  max_cat_threshold=None,\n",
       "                                                  max_cat_to_onehot=None,\n",
       "                                                  max_delta_step=None,\n",
       "                                                  max_depth=10, max_leaves=None,\n",
       "                                                  min_child_weight=12.87582166258377,\n",
       "                                                  missing=nan,\n",
       "                                                  monotone_constraints=None,\n",
       "                                                  multi_strategy=None,\n",
       "                                                  n_estimators=982, n_jobs=None, ...))"
      ]
     },
     "execution_count": 19,
     "metadata": {},
     "output_type": "execute_result"
    }
   ],
   "source": [
    "xgb_reg_1.fit(X_tr, y_tr)"
   ]
  },
  {
   "cell_type": "code",
   "execution_count": 20,
   "metadata": {
    "execution": {
     "iopub.execute_input": "2024-04-30T12:19:52.040105Z",
     "iopub.status.busy": "2024-04-30T12:19:52.039704Z",
     "iopub.status.idle": "2024-04-30T12:19:52.392777Z",
     "shell.execute_reply": "2024-04-30T12:19:52.391881Z",
     "shell.execute_reply.started": "2024-04-30T12:19:52.040070Z"
    }
   },
   "outputs": [
    {
     "data": {
      "text/plain": [
       "0.1478477436837093"
      ]
     },
     "execution_count": 20,
     "metadata": {},
     "output_type": "execute_result"
    }
   ],
   "source": [
    "evaluation_metric(y_val, xgb_reg_1.predict(X_val))"
   ]
  },
  {
   "cell_type": "code",
   "execution_count": null,
   "metadata": {
    "execution": {
     "iopub.execute_input": "2024-04-29T20:56:39.105415Z",
     "iopub.status.busy": "2024-04-29T20:56:39.104696Z",
     "iopub.status.idle": "2024-04-29T20:56:39.499452Z",
     "shell.execute_reply": "2024-04-29T20:56:39.498315Z",
     "shell.execute_reply.started": "2024-04-29T20:56:39.105385Z"
    }
   },
   "outputs": [],
   "source": [
    "feature_importance = xgb_reg_1.regressor_.feature_importances_\n",
    "feature_names = X_tr.columns\n",
    "\n",
    "sorted_indices = feature_importance.argsort()\n",
    "sorted_importance = feature_importance[sorted_indices]\n",
    "sorted_features = feature_names[sorted_indices]\n",
    "\n",
    "plt.figure(figsize=(10, 6))\n",
    "colors = plt.cm.tab20c.colors[:len(sorted_features)]  \n",
    "plt.barh(sorted_features, sorted_importance, color=colors)\n",
    "plt.xlabel('Importance')\n",
    "plt.ylabel('Feature')\n",
    "plt.title('XGBoost Feature Importance')\n",
    "plt.gca().invert_yaxis() \n",
    "plt.tight_layout()  \n",
    "plt.show()"
   ]
  },
  {
   "cell_type": "markdown",
   "metadata": {},
   "source": [
    "XGBoost 2"
   ]
  },
  {
   "cell_type": "code",
   "execution_count": 21,
   "metadata": {
    "execution": {
     "iopub.execute_input": "2024-04-30T12:19:56.450723Z",
     "iopub.status.busy": "2024-04-30T12:19:56.450025Z",
     "iopub.status.idle": "2024-04-30T12:19:56.456679Z",
     "shell.execute_reply": "2024-04-30T12:19:56.455321Z",
     "shell.execute_reply.started": "2024-04-30T12:19:56.450689Z"
    }
   },
   "outputs": [],
   "source": [
    "xgb_best_params_2 = {\n",
    "    'eta': 0.01077242260892917,\n",
    "    'max_depth': 11,\n",
    "    'min_child_weight': 9.114122932027431,\n",
    "    'subsample': 0.8209497225389015,\n",
    "    'colsample_bytree': 0.5537485302252583,\n",
    "    'lambda': 10.201959897562874,\n",
    "    'n_estimators': 949 \n",
    "}"
   ]
  },
  {
   "cell_type": "code",
   "execution_count": 22,
   "metadata": {
    "execution": {
     "iopub.execute_input": "2024-04-30T12:19:59.188649Z",
     "iopub.status.busy": "2024-04-30T12:19:59.187915Z",
     "iopub.status.idle": "2024-04-30T12:19:59.195667Z",
     "shell.execute_reply": "2024-04-30T12:19:59.193891Z",
     "shell.execute_reply.started": "2024-04-30T12:19:59.188609Z"
    }
   },
   "outputs": [],
   "source": [
    "xgb_reg_2 = TransformedTargetRegressor(XGBRegressor(**xgb_best_params_2, objective='reg:squarederror', grow_policy='lossguide',\n",
    "                                                 tree_method=\"hist\", random_state=42, gamma=0.0),\n",
    "                                                         func=np.log1p,\n",
    "                                                         inverse_func=np.expm1)"
   ]
  },
  {
   "cell_type": "code",
   "execution_count": 23,
   "metadata": {
    "execution": {
     "iopub.execute_input": "2024-04-30T12:20:01.651978Z",
     "iopub.status.busy": "2024-04-30T12:20:01.651477Z",
     "iopub.status.idle": "2024-04-30T12:20:25.198911Z",
     "shell.execute_reply": "2024-04-30T12:20:25.197332Z",
     "shell.execute_reply.started": "2024-04-30T12:20:01.651939Z"
    }
   },
   "outputs": [
    {
     "data": {
      "text/html": [
       "<style>#sk-container-id-2 {color: black;background-color: white;}#sk-container-id-2 pre{padding: 0;}#sk-container-id-2 div.sk-toggleable {background-color: white;}#sk-container-id-2 label.sk-toggleable__label {cursor: pointer;display: block;width: 100%;margin-bottom: 0;padding: 0.3em;box-sizing: border-box;text-align: center;}#sk-container-id-2 label.sk-toggleable__label-arrow:before {content: \"▸\";float: left;margin-right: 0.25em;color: #696969;}#sk-container-id-2 label.sk-toggleable__label-arrow:hover:before {color: black;}#sk-container-id-2 div.sk-estimator:hover label.sk-toggleable__label-arrow:before {color: black;}#sk-container-id-2 div.sk-toggleable__content {max-height: 0;max-width: 0;overflow: hidden;text-align: left;background-color: #f0f8ff;}#sk-container-id-2 div.sk-toggleable__content pre {margin: 0.2em;color: black;border-radius: 0.25em;background-color: #f0f8ff;}#sk-container-id-2 input.sk-toggleable__control:checked~div.sk-toggleable__content {max-height: 200px;max-width: 100%;overflow: auto;}#sk-container-id-2 input.sk-toggleable__control:checked~label.sk-toggleable__label-arrow:before {content: \"▾\";}#sk-container-id-2 div.sk-estimator input.sk-toggleable__control:checked~label.sk-toggleable__label {background-color: #d4ebff;}#sk-container-id-2 div.sk-label input.sk-toggleable__control:checked~label.sk-toggleable__label {background-color: #d4ebff;}#sk-container-id-2 input.sk-hidden--visually {border: 0;clip: rect(1px 1px 1px 1px);clip: rect(1px, 1px, 1px, 1px);height: 1px;margin: -1px;overflow: hidden;padding: 0;position: absolute;width: 1px;}#sk-container-id-2 div.sk-estimator {font-family: monospace;background-color: #f0f8ff;border: 1px dotted black;border-radius: 0.25em;box-sizing: border-box;margin-bottom: 0.5em;}#sk-container-id-2 div.sk-estimator:hover {background-color: #d4ebff;}#sk-container-id-2 div.sk-parallel-item::after {content: \"\";width: 100%;border-bottom: 1px solid gray;flex-grow: 1;}#sk-container-id-2 div.sk-label:hover label.sk-toggleable__label {background-color: #d4ebff;}#sk-container-id-2 div.sk-serial::before {content: \"\";position: absolute;border-left: 1px solid gray;box-sizing: border-box;top: 0;bottom: 0;left: 50%;z-index: 0;}#sk-container-id-2 div.sk-serial {display: flex;flex-direction: column;align-items: center;background-color: white;padding-right: 0.2em;padding-left: 0.2em;position: relative;}#sk-container-id-2 div.sk-item {position: relative;z-index: 1;}#sk-container-id-2 div.sk-parallel {display: flex;align-items: stretch;justify-content: center;background-color: white;position: relative;}#sk-container-id-2 div.sk-item::before, #sk-container-id-2 div.sk-parallel-item::before {content: \"\";position: absolute;border-left: 1px solid gray;box-sizing: border-box;top: 0;bottom: 0;left: 50%;z-index: -1;}#sk-container-id-2 div.sk-parallel-item {display: flex;flex-direction: column;z-index: 1;position: relative;background-color: white;}#sk-container-id-2 div.sk-parallel-item:first-child::after {align-self: flex-end;width: 50%;}#sk-container-id-2 div.sk-parallel-item:last-child::after {align-self: flex-start;width: 50%;}#sk-container-id-2 div.sk-parallel-item:only-child::after {width: 0;}#sk-container-id-2 div.sk-dashed-wrapped {border: 1px dashed gray;margin: 0 0.4em 0.5em 0.4em;box-sizing: border-box;padding-bottom: 0.4em;background-color: white;}#sk-container-id-2 div.sk-label label {font-family: monospace;font-weight: bold;display: inline-block;line-height: 1.2em;}#sk-container-id-2 div.sk-label-container {text-align: center;}#sk-container-id-2 div.sk-container {/* jupyter's `normalize.less` sets `[hidden] { display: none; }` but bootstrap.min.css set `[hidden] { display: none !important; }` so we also need the `!important` here to be able to override the default hidden behavior on the sphinx rendered scikit-learn.org. See: https://github.com/scikit-learn/scikit-learn/issues/21755 */display: inline-block !important;position: relative;}#sk-container-id-2 div.sk-text-repr-fallback {display: none;}</style><div id=\"sk-container-id-2\" class=\"sk-top-container\"><div class=\"sk-text-repr-fallback\"><pre>TransformedTargetRegressor(func=&lt;ufunc &#x27;log1p&#x27;&gt;, inverse_func=&lt;ufunc &#x27;expm1&#x27;&gt;,\n",
       "                           regressor=XGBRegressor(base_score=None, booster=None,\n",
       "                                                  callbacks=None,\n",
       "                                                  colsample_bylevel=None,\n",
       "                                                  colsample_bynode=None,\n",
       "                                                  colsample_bytree=0.5537485302252583,\n",
       "                                                  device=None,\n",
       "                                                  early_stopping_rounds=None,\n",
       "                                                  enable_categorical=False,\n",
       "                                                  eta=0.01077242260892917,\n",
       "                                                  eval_metric=None,\n",
       "                                                  feature_types=None, gam...\n",
       "                                                  grow_policy=&#x27;lossguide&#x27;,\n",
       "                                                  importance_type=None,\n",
       "                                                  interaction_constraints=None,\n",
       "                                                  lambda=10.201959897562874,\n",
       "                                                  learning_rate=None,\n",
       "                                                  max_bin=None,\n",
       "                                                  max_cat_threshold=None,\n",
       "                                                  max_cat_to_onehot=None,\n",
       "                                                  max_delta_step=None,\n",
       "                                                  max_depth=11, max_leaves=None,\n",
       "                                                  min_child_weight=9.114122932027431,\n",
       "                                                  missing=nan,\n",
       "                                                  monotone_constraints=None,\n",
       "                                                  multi_strategy=None,\n",
       "                                                  n_estimators=949, n_jobs=None, ...))</pre><b>In a Jupyter environment, please rerun this cell to show the HTML representation or trust the notebook. <br />On GitHub, the HTML representation is unable to render, please try loading this page with nbviewer.org.</b></div><div class=\"sk-container\" hidden><div class=\"sk-item sk-dashed-wrapped\"><div class=\"sk-label-container\"><div class=\"sk-label sk-toggleable\"><input class=\"sk-toggleable__control sk-hidden--visually\" id=\"sk-estimator-id-4\" type=\"checkbox\" ><label for=\"sk-estimator-id-4\" class=\"sk-toggleable__label sk-toggleable__label-arrow\">TransformedTargetRegressor</label><div class=\"sk-toggleable__content\"><pre>TransformedTargetRegressor(func=&lt;ufunc &#x27;log1p&#x27;&gt;, inverse_func=&lt;ufunc &#x27;expm1&#x27;&gt;,\n",
       "                           regressor=XGBRegressor(base_score=None, booster=None,\n",
       "                                                  callbacks=None,\n",
       "                                                  colsample_bylevel=None,\n",
       "                                                  colsample_bynode=None,\n",
       "                                                  colsample_bytree=0.5537485302252583,\n",
       "                                                  device=None,\n",
       "                                                  early_stopping_rounds=None,\n",
       "                                                  enable_categorical=False,\n",
       "                                                  eta=0.01077242260892917,\n",
       "                                                  eval_metric=None,\n",
       "                                                  feature_types=None, gam...\n",
       "                                                  grow_policy=&#x27;lossguide&#x27;,\n",
       "                                                  importance_type=None,\n",
       "                                                  interaction_constraints=None,\n",
       "                                                  lambda=10.201959897562874,\n",
       "                                                  learning_rate=None,\n",
       "                                                  max_bin=None,\n",
       "                                                  max_cat_threshold=None,\n",
       "                                                  max_cat_to_onehot=None,\n",
       "                                                  max_delta_step=None,\n",
       "                                                  max_depth=11, max_leaves=None,\n",
       "                                                  min_child_weight=9.114122932027431,\n",
       "                                                  missing=nan,\n",
       "                                                  monotone_constraints=None,\n",
       "                                                  multi_strategy=None,\n",
       "                                                  n_estimators=949, n_jobs=None, ...))</pre></div></div></div><div class=\"sk-parallel\"><div class=\"sk-parallel-item\"><div class=\"sk-item\"><div class=\"sk-label-container\"><div class=\"sk-label sk-toggleable\"><input class=\"sk-toggleable__control sk-hidden--visually\" id=\"sk-estimator-id-5\" type=\"checkbox\" ><label for=\"sk-estimator-id-5\" class=\"sk-toggleable__label sk-toggleable__label-arrow\">regressor: XGBRegressor</label><div class=\"sk-toggleable__content\"><pre>XGBRegressor(base_score=None, booster=None, callbacks=None,\n",
       "             colsample_bylevel=None, colsample_bynode=None,\n",
       "             colsample_bytree=0.5537485302252583, device=None,\n",
       "             early_stopping_rounds=None, enable_categorical=False,\n",
       "             eta=0.01077242260892917, eval_metric=None, feature_types=None,\n",
       "             gamma=0.0, grow_policy=&#x27;lossguide&#x27;, importance_type=None,\n",
       "             interaction_constraints=None, lambda=10.201959897562874,\n",
       "             learning_rate=None, max_bin=None, max_cat_threshold=None,\n",
       "             max_cat_to_onehot=None, max_delta_step=None, max_depth=11,\n",
       "             max_leaves=None, min_child_weight=9.114122932027431, missing=nan,\n",
       "             monotone_constraints=None, multi_strategy=None, n_estimators=949,\n",
       "             n_jobs=None, ...)</pre></div></div></div><div class=\"sk-serial\"><div class=\"sk-item\"><div class=\"sk-estimator sk-toggleable\"><input class=\"sk-toggleable__control sk-hidden--visually\" id=\"sk-estimator-id-6\" type=\"checkbox\" ><label for=\"sk-estimator-id-6\" class=\"sk-toggleable__label sk-toggleable__label-arrow\">XGBRegressor</label><div class=\"sk-toggleable__content\"><pre>XGBRegressor(base_score=None, booster=None, callbacks=None,\n",
       "             colsample_bylevel=None, colsample_bynode=None,\n",
       "             colsample_bytree=0.5537485302252583, device=None,\n",
       "             early_stopping_rounds=None, enable_categorical=False,\n",
       "             eta=0.01077242260892917, eval_metric=None, feature_types=None,\n",
       "             gamma=0.0, grow_policy=&#x27;lossguide&#x27;, importance_type=None,\n",
       "             interaction_constraints=None, lambda=10.201959897562874,\n",
       "             learning_rate=None, max_bin=None, max_cat_threshold=None,\n",
       "             max_cat_to_onehot=None, max_delta_step=None, max_depth=11,\n",
       "             max_leaves=None, min_child_weight=9.114122932027431, missing=nan,\n",
       "             monotone_constraints=None, multi_strategy=None, n_estimators=949,\n",
       "             n_jobs=None, ...)</pre></div></div></div></div></div></div></div></div></div></div>"
      ],
      "text/plain": [
       "TransformedTargetRegressor(func=<ufunc 'log1p'>, inverse_func=<ufunc 'expm1'>,\n",
       "                           regressor=XGBRegressor(base_score=None, booster=None,\n",
       "                                                  callbacks=None,\n",
       "                                                  colsample_bylevel=None,\n",
       "                                                  colsample_bynode=None,\n",
       "                                                  colsample_bytree=0.5537485302252583,\n",
       "                                                  device=None,\n",
       "                                                  early_stopping_rounds=None,\n",
       "                                                  enable_categorical=False,\n",
       "                                                  eta=0.01077242260892917,\n",
       "                                                  eval_metric=None,\n",
       "                                                  feature_types=None, gam...\n",
       "                                                  grow_policy='lossguide',\n",
       "                                                  importance_type=None,\n",
       "                                                  interaction_constraints=None,\n",
       "                                                  lambda=10.201959897562874,\n",
       "                                                  learning_rate=None,\n",
       "                                                  max_bin=None,\n",
       "                                                  max_cat_threshold=None,\n",
       "                                                  max_cat_to_onehot=None,\n",
       "                                                  max_delta_step=None,\n",
       "                                                  max_depth=11, max_leaves=None,\n",
       "                                                  min_child_weight=9.114122932027431,\n",
       "                                                  missing=nan,\n",
       "                                                  monotone_constraints=None,\n",
       "                                                  multi_strategy=None,\n",
       "                                                  n_estimators=949, n_jobs=None, ...))"
      ]
     },
     "execution_count": 23,
     "metadata": {},
     "output_type": "execute_result"
    }
   ],
   "source": [
    "xgb_reg_2.fit(X_tr, y_tr)"
   ]
  },
  {
   "cell_type": "code",
   "execution_count": 24,
   "metadata": {
    "execution": {
     "iopub.execute_input": "2024-04-30T12:20:25.201322Z",
     "iopub.status.busy": "2024-04-30T12:20:25.200833Z",
     "iopub.status.idle": "2024-04-30T12:20:25.649029Z",
     "shell.execute_reply": "2024-04-30T12:20:25.647964Z",
     "shell.execute_reply.started": "2024-04-30T12:20:25.201287Z"
    }
   },
   "outputs": [
    {
     "data": {
      "text/plain": [
       "0.14778540063608597"
      ]
     },
     "execution_count": 24,
     "metadata": {},
     "output_type": "execute_result"
    }
   ],
   "source": [
    "evaluation_metric(y_val, xgb_reg_2.predict(X_val))"
   ]
  },
  {
   "cell_type": "markdown",
   "metadata": {},
   "source": [
    "# # 8.2 LightGBM"
   ]
  },
  {
   "cell_type": "code",
   "execution_count": 25,
   "metadata": {
    "execution": {
     "iopub.execute_input": "2024-04-30T12:20:30.520283Z",
     "iopub.status.busy": "2024-04-30T12:20:30.519455Z",
     "iopub.status.idle": "2024-04-30T12:20:30.535359Z",
     "shell.execute_reply": "2024-04-30T12:20:30.534264Z",
     "shell.execute_reply.started": "2024-04-30T12:20:30.520232Z"
    }
   },
   "outputs": [
    {
     "name": "stderr",
     "output_type": "stream",
     "text": [
      "[I 2024-04-30 12:20:30,531] A new study created in memory with name: LGBMRegressor\n"
     ]
    }
   ],
   "source": [
    "def lgbm_objective(trial):\n",
    "    # Define parameters to be optimized for the LGBMClassifier\n",
    "    param = {\n",
    "        \"verbosity\": -1,\n",
    "        \"random_state\": 42,\n",
    "        \"learning_rate\": trial.suggest_float(\"learning_rate\", 0.01, 0.05),\n",
    "        \"n_estimators\": trial.suggest_int(\"n_estimators\", 400, 1000),\n",
    "        \"lambda_l1\": trial.suggest_float(\"lambda_l1\", 0.005, 0.015),\n",
    "        \"lambda_l2\": trial.suggest_float(\"lambda_l2\", 0.02, 0.06),\n",
    "        \"max_depth\": trial.suggest_int(\"max_depth\", 6, 14),\n",
    "        \"colsample_bytree\": trial.suggest_float(\"colsample_bytree\", 0.3, 0.9),\n",
    "        \"subsample\": trial.suggest_float(\"subsample\", 0.8, 1.0),\n",
    "        \"min_child_samples\": trial.suggest_int(\"min_child_samples\", 10, 70),\n",
    "        \"num_leaves\": trial.suggest_int(\"num_leaves\", 30, 100),\n",
    "        \"min_split_gain\": trial.suggest_float(\"min_split_gain\", 0.1, 1.0)\n",
    "    }\n",
    "\n",
    "    lgbm_reg = TransformedTargetRegressor(LGBMRegressor(**param),\n",
    "                                                         func=np.log1p,\n",
    "                                                         inverse_func=np.expm1)\n",
    "    \n",
    "    lgbm_reg.fit(X_tr, y_tr, eval_set=[(X_val, y_val)])\n",
    "\n",
    "    val_scores = evaluation_metric(y_val, lgbm_reg.predict(X_val))\n",
    "    return val_scores\n",
    "\n",
    "\n",
    "# Set up the sampler for Optuna optimization\n",
    "sampler = optuna.samplers.TPESampler(seed=42)  # Using Tree-structured Parzen Estimator sampler for optimization\n",
    "\n",
    "# Create a study object for Optuna optimization\n",
    "lgbm_study = optuna.create_study(direction=\"minimize\", study_name=\"LGBMRegressor\", sampler=sampler)"
   ]
  },
  {
   "cell_type": "code",
   "execution_count": 28,
   "metadata": {
    "execution": {
     "iopub.execute_input": "2024-04-30T12:47:55.799064Z",
     "iopub.status.busy": "2024-04-30T12:47:55.798622Z",
     "iopub.status.idle": "2024-04-30T12:47:55.805317Z",
     "shell.execute_reply": "2024-04-30T12:47:55.803891Z",
     "shell.execute_reply.started": "2024-04-30T12:47:55.799032Z"
    }
   },
   "outputs": [],
   "source": [
    "TUNE = False\n",
    "if TUNE:\n",
    "    # Run the optimization process\n",
    "    lgbm_study.optimize(lambda trial: lgbm_objective(trial), n_trials=400)\n",
    "\n",
    "    # Get the best parameters after optimization\n",
    "    lgbm_best_params = lgbm_study.best_params\n",
    "\n",
    "    print('='*50)\n",
    "    print(lgbm_best_params)"
   ]
  },
  {
   "cell_type": "markdown",
   "metadata": {},
   "source": [
    "Lightgbm 1"
   ]
  },
  {
   "cell_type": "code",
   "execution_count": 29,
   "metadata": {
    "execution": {
     "iopub.execute_input": "2024-04-30T12:47:59.277735Z",
     "iopub.status.busy": "2024-04-30T12:47:59.277315Z",
     "iopub.status.idle": "2024-04-30T12:47:59.283686Z",
     "shell.execute_reply": "2024-04-30T12:47:59.282799Z",
     "shell.execute_reply.started": "2024-04-30T12:47:59.277700Z"
    }
   },
   "outputs": [],
   "source": [
    "lgbm_params_1 = {\n",
    "    'learning_rate': 0.023935877142742104, \n",
    "    'n_estimators': 427, \n",
    "    'lambda_l1': 0.014169833960239667, \n",
    "    'lambda_l2': 0.02453214295703588, \n",
    "    'max_depth': 12, \n",
    "    'colsample_bytree': 0.6339394447109402, \n",
    "    'subsample': 0.8878090464357417, \n",
    "    'min_child_samples': 18, \n",
    "    'num_leaves': 94, \n",
    "    'min_split_gain': 0.10176601252417374,\n",
    "    'random_state': 42,\n",
    "    'n_jobs': -1,\n",
    "    'verbose': -1\n",
    "}"
   ]
  },
  {
   "cell_type": "code",
   "execution_count": 30,
   "metadata": {
    "execution": {
     "iopub.execute_input": "2024-04-30T12:48:02.143954Z",
     "iopub.status.busy": "2024-04-30T12:48:02.143320Z",
     "iopub.status.idle": "2024-04-30T12:48:02.148554Z",
     "shell.execute_reply": "2024-04-30T12:48:02.147317Z",
     "shell.execute_reply.started": "2024-04-30T12:48:02.143920Z"
    }
   },
   "outputs": [],
   "source": [
    "lgbm_reg_1 = TransformedTargetRegressor(LGBMRegressor(**lgbm_params_1),\n",
    "                                                 func=np.log1p,\n",
    "                                                 inverse_func=np.expm1)"
   ]
  },
  {
   "cell_type": "code",
   "execution_count": 31,
   "metadata": {
    "execution": {
     "iopub.execute_input": "2024-04-30T12:48:05.029631Z",
     "iopub.status.busy": "2024-04-30T12:48:05.029174Z",
     "iopub.status.idle": "2024-04-30T12:48:07.652239Z",
     "shell.execute_reply": "2024-04-30T12:48:07.651091Z",
     "shell.execute_reply.started": "2024-04-30T12:48:05.029597Z"
    }
   },
   "outputs": [
    {
     "data": {
      "text/html": [
       "<style>#sk-container-id-3 {color: black;background-color: white;}#sk-container-id-3 pre{padding: 0;}#sk-container-id-3 div.sk-toggleable {background-color: white;}#sk-container-id-3 label.sk-toggleable__label {cursor: pointer;display: block;width: 100%;margin-bottom: 0;padding: 0.3em;box-sizing: border-box;text-align: center;}#sk-container-id-3 label.sk-toggleable__label-arrow:before {content: \"▸\";float: left;margin-right: 0.25em;color: #696969;}#sk-container-id-3 label.sk-toggleable__label-arrow:hover:before {color: black;}#sk-container-id-3 div.sk-estimator:hover label.sk-toggleable__label-arrow:before {color: black;}#sk-container-id-3 div.sk-toggleable__content {max-height: 0;max-width: 0;overflow: hidden;text-align: left;background-color: #f0f8ff;}#sk-container-id-3 div.sk-toggleable__content pre {margin: 0.2em;color: black;border-radius: 0.25em;background-color: #f0f8ff;}#sk-container-id-3 input.sk-toggleable__control:checked~div.sk-toggleable__content {max-height: 200px;max-width: 100%;overflow: auto;}#sk-container-id-3 input.sk-toggleable__control:checked~label.sk-toggleable__label-arrow:before {content: \"▾\";}#sk-container-id-3 div.sk-estimator input.sk-toggleable__control:checked~label.sk-toggleable__label {background-color: #d4ebff;}#sk-container-id-3 div.sk-label input.sk-toggleable__control:checked~label.sk-toggleable__label {background-color: #d4ebff;}#sk-container-id-3 input.sk-hidden--visually {border: 0;clip: rect(1px 1px 1px 1px);clip: rect(1px, 1px, 1px, 1px);height: 1px;margin: -1px;overflow: hidden;padding: 0;position: absolute;width: 1px;}#sk-container-id-3 div.sk-estimator {font-family: monospace;background-color: #f0f8ff;border: 1px dotted black;border-radius: 0.25em;box-sizing: border-box;margin-bottom: 0.5em;}#sk-container-id-3 div.sk-estimator:hover {background-color: #d4ebff;}#sk-container-id-3 div.sk-parallel-item::after {content: \"\";width: 100%;border-bottom: 1px solid gray;flex-grow: 1;}#sk-container-id-3 div.sk-label:hover label.sk-toggleable__label {background-color: #d4ebff;}#sk-container-id-3 div.sk-serial::before {content: \"\";position: absolute;border-left: 1px solid gray;box-sizing: border-box;top: 0;bottom: 0;left: 50%;z-index: 0;}#sk-container-id-3 div.sk-serial {display: flex;flex-direction: column;align-items: center;background-color: white;padding-right: 0.2em;padding-left: 0.2em;position: relative;}#sk-container-id-3 div.sk-item {position: relative;z-index: 1;}#sk-container-id-3 div.sk-parallel {display: flex;align-items: stretch;justify-content: center;background-color: white;position: relative;}#sk-container-id-3 div.sk-item::before, #sk-container-id-3 div.sk-parallel-item::before {content: \"\";position: absolute;border-left: 1px solid gray;box-sizing: border-box;top: 0;bottom: 0;left: 50%;z-index: -1;}#sk-container-id-3 div.sk-parallel-item {display: flex;flex-direction: column;z-index: 1;position: relative;background-color: white;}#sk-container-id-3 div.sk-parallel-item:first-child::after {align-self: flex-end;width: 50%;}#sk-container-id-3 div.sk-parallel-item:last-child::after {align-self: flex-start;width: 50%;}#sk-container-id-3 div.sk-parallel-item:only-child::after {width: 0;}#sk-container-id-3 div.sk-dashed-wrapped {border: 1px dashed gray;margin: 0 0.4em 0.5em 0.4em;box-sizing: border-box;padding-bottom: 0.4em;background-color: white;}#sk-container-id-3 div.sk-label label {font-family: monospace;font-weight: bold;display: inline-block;line-height: 1.2em;}#sk-container-id-3 div.sk-label-container {text-align: center;}#sk-container-id-3 div.sk-container {/* jupyter's `normalize.less` sets `[hidden] { display: none; }` but bootstrap.min.css set `[hidden] { display: none !important; }` so we also need the `!important` here to be able to override the default hidden behavior on the sphinx rendered scikit-learn.org. See: https://github.com/scikit-learn/scikit-learn/issues/21755 */display: inline-block !important;position: relative;}#sk-container-id-3 div.sk-text-repr-fallback {display: none;}</style><div id=\"sk-container-id-3\" class=\"sk-top-container\"><div class=\"sk-text-repr-fallback\"><pre>TransformedTargetRegressor(func=&lt;ufunc &#x27;log1p&#x27;&gt;, inverse_func=&lt;ufunc &#x27;expm1&#x27;&gt;,\n",
       "                           regressor=LGBMRegressor(colsample_bytree=0.6339394447109402,\n",
       "                                                   lambda_l1=0.014169833960239667,\n",
       "                                                   lambda_l2=0.02453214295703588,\n",
       "                                                   learning_rate=0.023935877142742104,\n",
       "                                                   max_depth=12,\n",
       "                                                   min_child_samples=18,\n",
       "                                                   min_split_gain=0.10176601252417374,\n",
       "                                                   n_estimators=427, n_jobs=-1,\n",
       "                                                   num_leaves=94,\n",
       "                                                   random_state=42,\n",
       "                                                   subsample=0.8878090464357417,\n",
       "                                                   verbose=-1))</pre><b>In a Jupyter environment, please rerun this cell to show the HTML representation or trust the notebook. <br />On GitHub, the HTML representation is unable to render, please try loading this page with nbviewer.org.</b></div><div class=\"sk-container\" hidden><div class=\"sk-item sk-dashed-wrapped\"><div class=\"sk-label-container\"><div class=\"sk-label sk-toggleable\"><input class=\"sk-toggleable__control sk-hidden--visually\" id=\"sk-estimator-id-7\" type=\"checkbox\" ><label for=\"sk-estimator-id-7\" class=\"sk-toggleable__label sk-toggleable__label-arrow\">TransformedTargetRegressor</label><div class=\"sk-toggleable__content\"><pre>TransformedTargetRegressor(func=&lt;ufunc &#x27;log1p&#x27;&gt;, inverse_func=&lt;ufunc &#x27;expm1&#x27;&gt;,\n",
       "                           regressor=LGBMRegressor(colsample_bytree=0.6339394447109402,\n",
       "                                                   lambda_l1=0.014169833960239667,\n",
       "                                                   lambda_l2=0.02453214295703588,\n",
       "                                                   learning_rate=0.023935877142742104,\n",
       "                                                   max_depth=12,\n",
       "                                                   min_child_samples=18,\n",
       "                                                   min_split_gain=0.10176601252417374,\n",
       "                                                   n_estimators=427, n_jobs=-1,\n",
       "                                                   num_leaves=94,\n",
       "                                                   random_state=42,\n",
       "                                                   subsample=0.8878090464357417,\n",
       "                                                   verbose=-1))</pre></div></div></div><div class=\"sk-parallel\"><div class=\"sk-parallel-item\"><div class=\"sk-item\"><div class=\"sk-label-container\"><div class=\"sk-label sk-toggleable\"><input class=\"sk-toggleable__control sk-hidden--visually\" id=\"sk-estimator-id-8\" type=\"checkbox\" ><label for=\"sk-estimator-id-8\" class=\"sk-toggleable__label sk-toggleable__label-arrow\">regressor: LGBMRegressor</label><div class=\"sk-toggleable__content\"><pre>LGBMRegressor(colsample_bytree=0.6339394447109402,\n",
       "              lambda_l1=0.014169833960239667, lambda_l2=0.02453214295703588,\n",
       "              learning_rate=0.023935877142742104, max_depth=12,\n",
       "              min_child_samples=18, min_split_gain=0.10176601252417374,\n",
       "              n_estimators=427, n_jobs=-1, num_leaves=94, random_state=42,\n",
       "              subsample=0.8878090464357417, verbose=-1)</pre></div></div></div><div class=\"sk-serial\"><div class=\"sk-item\"><div class=\"sk-estimator sk-toggleable\"><input class=\"sk-toggleable__control sk-hidden--visually\" id=\"sk-estimator-id-9\" type=\"checkbox\" ><label for=\"sk-estimator-id-9\" class=\"sk-toggleable__label sk-toggleable__label-arrow\">LGBMRegressor</label><div class=\"sk-toggleable__content\"><pre>LGBMRegressor(colsample_bytree=0.6339394447109402,\n",
       "              lambda_l1=0.014169833960239667, lambda_l2=0.02453214295703588,\n",
       "              learning_rate=0.023935877142742104, max_depth=12,\n",
       "              min_child_samples=18, min_split_gain=0.10176601252417374,\n",
       "              n_estimators=427, n_jobs=-1, num_leaves=94, random_state=42,\n",
       "              subsample=0.8878090464357417, verbose=-1)</pre></div></div></div></div></div></div></div></div></div></div>"
      ],
      "text/plain": [
       "TransformedTargetRegressor(func=<ufunc 'log1p'>, inverse_func=<ufunc 'expm1'>,\n",
       "                           regressor=LGBMRegressor(colsample_bytree=0.6339394447109402,\n",
       "                                                   lambda_l1=0.014169833960239667,\n",
       "                                                   lambda_l2=0.02453214295703588,\n",
       "                                                   learning_rate=0.023935877142742104,\n",
       "                                                   max_depth=12,\n",
       "                                                   min_child_samples=18,\n",
       "                                                   min_split_gain=0.10176601252417374,\n",
       "                                                   n_estimators=427, n_jobs=-1,\n",
       "                                                   num_leaves=94,\n",
       "                                                   random_state=42,\n",
       "                                                   subsample=0.8878090464357417,\n",
       "                                                   verbose=-1))"
      ]
     },
     "execution_count": 31,
     "metadata": {},
     "output_type": "execute_result"
    }
   ],
   "source": [
    "lgbm_reg_1.fit(X_tr, y_tr)"
   ]
  },
  {
   "cell_type": "code",
   "execution_count": 32,
   "metadata": {
    "execution": {
     "iopub.execute_input": "2024-04-30T12:48:12.363247Z",
     "iopub.status.busy": "2024-04-30T12:48:12.362859Z",
     "iopub.status.idle": "2024-04-30T12:48:12.674242Z",
     "shell.execute_reply": "2024-04-30T12:48:12.672948Z",
     "shell.execute_reply.started": "2024-04-30T12:48:12.363218Z"
    }
   },
   "outputs": [
    {
     "data": {
      "text/plain": [
       "0.14861673532786357"
      ]
     },
     "execution_count": 32,
     "metadata": {},
     "output_type": "execute_result"
    }
   ],
   "source": [
    "evaluation_metric(y_val, lgbm_reg_1.predict(X_val))"
   ]
  },
  {
   "cell_type": "code",
   "execution_count": null,
   "metadata": {
    "execution": {
     "iopub.execute_input": "2024-04-29T20:57:05.941663Z",
     "iopub.status.busy": "2024-04-29T20:57:05.941286Z",
     "iopub.status.idle": "2024-04-29T20:57:06.316343Z",
     "shell.execute_reply": "2024-04-29T20:57:06.315017Z",
     "shell.execute_reply.started": "2024-04-29T20:57:05.941634Z"
    }
   },
   "outputs": [],
   "source": [
    "feature_importance = lgbm_reg_1.regressor_.feature_importances_\n",
    "\n",
    "feature_names = X_tr.columns\n",
    "\n",
    "sorted_indices = feature_importance.argsort()\n",
    "sorted_importance = feature_importance[sorted_indices]\n",
    "sorted_features = feature_names[sorted_indices]\n",
    "\n",
    "# Plot feature importance\n",
    "plt.figure(figsize=(12, 8))\n",
    "colors = plt.cm.Paired.colors[:len(sorted_features)]  \n",
    "plt.barh(sorted_features, sorted_importance, color=colors)\n",
    "plt.xlabel('Importance', fontsize=12)\n",
    "plt.ylabel('Feature', fontsize=12)\n",
    "plt.title('LightGBM Feature Importance', fontsize=14)\n",
    "plt.gca().invert_yaxis() \n",
    "\n",
    "for i, v in enumerate(sorted_importance):\n",
    "    plt.text(v + 0.02, i, f'{v:.2f}', color='black', va='center', fontsize=10)\n",
    "\n",
    "plt.tight_layout()  \n",
    "plt.show()"
   ]
  },
  {
   "cell_type": "markdown",
   "metadata": {},
   "source": [
    "Lightgbm 2"
   ]
  },
  {
   "cell_type": "code",
   "execution_count": 33,
   "metadata": {
    "execution": {
     "iopub.execute_input": "2024-04-30T12:48:17.301041Z",
     "iopub.status.busy": "2024-04-30T12:48:17.300580Z",
     "iopub.status.idle": "2024-04-30T12:48:17.306800Z",
     "shell.execute_reply": "2024-04-30T12:48:17.305776Z",
     "shell.execute_reply.started": "2024-04-30T12:48:17.301004Z"
    }
   },
   "outputs": [],
   "source": [
    "lgbm_params_2 = {\n",
    "    'learning_rate': 0.01711102441624917, \n",
    "    'n_estimators': 784, \n",
    "    'lambda_l1': 0.014968558836396594, \n",
    "    'lambda_l2': 0.024025038402942282, \n",
    "    'max_depth': 13, \n",
    "    'colsample_bytree': 0.6237421121741338, \n",
    "    'subsample': 0.8114831522568513, \n",
    "    'min_child_samples': 12, \n",
    "    'num_leaves': 92, \n",
    "    'min_split_gain': 0.10028969929666237,\n",
    "    'random_state': 42,\n",
    "    'n_jobs': -1,\n",
    "    'verbose': -1\n",
    "}"
   ]
  },
  {
   "cell_type": "code",
   "execution_count": 34,
   "metadata": {
    "execution": {
     "iopub.execute_input": "2024-04-30T12:48:19.765364Z",
     "iopub.status.busy": "2024-04-30T12:48:19.764715Z",
     "iopub.status.idle": "2024-04-30T12:48:19.770035Z",
     "shell.execute_reply": "2024-04-30T12:48:19.769013Z",
     "shell.execute_reply.started": "2024-04-30T12:48:19.765331Z"
    }
   },
   "outputs": [],
   "source": [
    "lgbm_reg_2 = TransformedTargetRegressor(LGBMRegressor(**lgbm_params_2),\n",
    "                                                 func=np.log1p,\n",
    "                                                 inverse_func=np.expm1)"
   ]
  },
  {
   "cell_type": "code",
   "execution_count": 35,
   "metadata": {
    "execution": {
     "iopub.execute_input": "2024-04-30T12:48:22.533612Z",
     "iopub.status.busy": "2024-04-30T12:48:22.532969Z",
     "iopub.status.idle": "2024-04-30T12:48:26.110395Z",
     "shell.execute_reply": "2024-04-30T12:48:26.109344Z",
     "shell.execute_reply.started": "2024-04-30T12:48:22.533577Z"
    }
   },
   "outputs": [
    {
     "data": {
      "text/html": [
       "<style>#sk-container-id-4 {color: black;background-color: white;}#sk-container-id-4 pre{padding: 0;}#sk-container-id-4 div.sk-toggleable {background-color: white;}#sk-container-id-4 label.sk-toggleable__label {cursor: pointer;display: block;width: 100%;margin-bottom: 0;padding: 0.3em;box-sizing: border-box;text-align: center;}#sk-container-id-4 label.sk-toggleable__label-arrow:before {content: \"▸\";float: left;margin-right: 0.25em;color: #696969;}#sk-container-id-4 label.sk-toggleable__label-arrow:hover:before {color: black;}#sk-container-id-4 div.sk-estimator:hover label.sk-toggleable__label-arrow:before {color: black;}#sk-container-id-4 div.sk-toggleable__content {max-height: 0;max-width: 0;overflow: hidden;text-align: left;background-color: #f0f8ff;}#sk-container-id-4 div.sk-toggleable__content pre {margin: 0.2em;color: black;border-radius: 0.25em;background-color: #f0f8ff;}#sk-container-id-4 input.sk-toggleable__control:checked~div.sk-toggleable__content {max-height: 200px;max-width: 100%;overflow: auto;}#sk-container-id-4 input.sk-toggleable__control:checked~label.sk-toggleable__label-arrow:before {content: \"▾\";}#sk-container-id-4 div.sk-estimator input.sk-toggleable__control:checked~label.sk-toggleable__label {background-color: #d4ebff;}#sk-container-id-4 div.sk-label input.sk-toggleable__control:checked~label.sk-toggleable__label {background-color: #d4ebff;}#sk-container-id-4 input.sk-hidden--visually {border: 0;clip: rect(1px 1px 1px 1px);clip: rect(1px, 1px, 1px, 1px);height: 1px;margin: -1px;overflow: hidden;padding: 0;position: absolute;width: 1px;}#sk-container-id-4 div.sk-estimator {font-family: monospace;background-color: #f0f8ff;border: 1px dotted black;border-radius: 0.25em;box-sizing: border-box;margin-bottom: 0.5em;}#sk-container-id-4 div.sk-estimator:hover {background-color: #d4ebff;}#sk-container-id-4 div.sk-parallel-item::after {content: \"\";width: 100%;border-bottom: 1px solid gray;flex-grow: 1;}#sk-container-id-4 div.sk-label:hover label.sk-toggleable__label {background-color: #d4ebff;}#sk-container-id-4 div.sk-serial::before {content: \"\";position: absolute;border-left: 1px solid gray;box-sizing: border-box;top: 0;bottom: 0;left: 50%;z-index: 0;}#sk-container-id-4 div.sk-serial {display: flex;flex-direction: column;align-items: center;background-color: white;padding-right: 0.2em;padding-left: 0.2em;position: relative;}#sk-container-id-4 div.sk-item {position: relative;z-index: 1;}#sk-container-id-4 div.sk-parallel {display: flex;align-items: stretch;justify-content: center;background-color: white;position: relative;}#sk-container-id-4 div.sk-item::before, #sk-container-id-4 div.sk-parallel-item::before {content: \"\";position: absolute;border-left: 1px solid gray;box-sizing: border-box;top: 0;bottom: 0;left: 50%;z-index: -1;}#sk-container-id-4 div.sk-parallel-item {display: flex;flex-direction: column;z-index: 1;position: relative;background-color: white;}#sk-container-id-4 div.sk-parallel-item:first-child::after {align-self: flex-end;width: 50%;}#sk-container-id-4 div.sk-parallel-item:last-child::after {align-self: flex-start;width: 50%;}#sk-container-id-4 div.sk-parallel-item:only-child::after {width: 0;}#sk-container-id-4 div.sk-dashed-wrapped {border: 1px dashed gray;margin: 0 0.4em 0.5em 0.4em;box-sizing: border-box;padding-bottom: 0.4em;background-color: white;}#sk-container-id-4 div.sk-label label {font-family: monospace;font-weight: bold;display: inline-block;line-height: 1.2em;}#sk-container-id-4 div.sk-label-container {text-align: center;}#sk-container-id-4 div.sk-container {/* jupyter's `normalize.less` sets `[hidden] { display: none; }` but bootstrap.min.css set `[hidden] { display: none !important; }` so we also need the `!important` here to be able to override the default hidden behavior on the sphinx rendered scikit-learn.org. See: https://github.com/scikit-learn/scikit-learn/issues/21755 */display: inline-block !important;position: relative;}#sk-container-id-4 div.sk-text-repr-fallback {display: none;}</style><div id=\"sk-container-id-4\" class=\"sk-top-container\"><div class=\"sk-text-repr-fallback\"><pre>TransformedTargetRegressor(func=&lt;ufunc &#x27;log1p&#x27;&gt;, inverse_func=&lt;ufunc &#x27;expm1&#x27;&gt;,\n",
       "                           regressor=LGBMRegressor(colsample_bytree=0.6237421121741338,\n",
       "                                                   lambda_l1=0.014968558836396594,\n",
       "                                                   lambda_l2=0.024025038402942282,\n",
       "                                                   learning_rate=0.01711102441624917,\n",
       "                                                   max_depth=13,\n",
       "                                                   min_child_samples=12,\n",
       "                                                   min_split_gain=0.10028969929666237,\n",
       "                                                   n_estimators=784, n_jobs=-1,\n",
       "                                                   num_leaves=92,\n",
       "                                                   random_state=42,\n",
       "                                                   subsample=0.8114831522568513,\n",
       "                                                   verbose=-1))</pre><b>In a Jupyter environment, please rerun this cell to show the HTML representation or trust the notebook. <br />On GitHub, the HTML representation is unable to render, please try loading this page with nbviewer.org.</b></div><div class=\"sk-container\" hidden><div class=\"sk-item sk-dashed-wrapped\"><div class=\"sk-label-container\"><div class=\"sk-label sk-toggleable\"><input class=\"sk-toggleable__control sk-hidden--visually\" id=\"sk-estimator-id-10\" type=\"checkbox\" ><label for=\"sk-estimator-id-10\" class=\"sk-toggleable__label sk-toggleable__label-arrow\">TransformedTargetRegressor</label><div class=\"sk-toggleable__content\"><pre>TransformedTargetRegressor(func=&lt;ufunc &#x27;log1p&#x27;&gt;, inverse_func=&lt;ufunc &#x27;expm1&#x27;&gt;,\n",
       "                           regressor=LGBMRegressor(colsample_bytree=0.6237421121741338,\n",
       "                                                   lambda_l1=0.014968558836396594,\n",
       "                                                   lambda_l2=0.024025038402942282,\n",
       "                                                   learning_rate=0.01711102441624917,\n",
       "                                                   max_depth=13,\n",
       "                                                   min_child_samples=12,\n",
       "                                                   min_split_gain=0.10028969929666237,\n",
       "                                                   n_estimators=784, n_jobs=-1,\n",
       "                                                   num_leaves=92,\n",
       "                                                   random_state=42,\n",
       "                                                   subsample=0.8114831522568513,\n",
       "                                                   verbose=-1))</pre></div></div></div><div class=\"sk-parallel\"><div class=\"sk-parallel-item\"><div class=\"sk-item\"><div class=\"sk-label-container\"><div class=\"sk-label sk-toggleable\"><input class=\"sk-toggleable__control sk-hidden--visually\" id=\"sk-estimator-id-11\" type=\"checkbox\" ><label for=\"sk-estimator-id-11\" class=\"sk-toggleable__label sk-toggleable__label-arrow\">regressor: LGBMRegressor</label><div class=\"sk-toggleable__content\"><pre>LGBMRegressor(colsample_bytree=0.6237421121741338,\n",
       "              lambda_l1=0.014968558836396594, lambda_l2=0.024025038402942282,\n",
       "              learning_rate=0.01711102441624917, max_depth=13,\n",
       "              min_child_samples=12, min_split_gain=0.10028969929666237,\n",
       "              n_estimators=784, n_jobs=-1, num_leaves=92, random_state=42,\n",
       "              subsample=0.8114831522568513, verbose=-1)</pre></div></div></div><div class=\"sk-serial\"><div class=\"sk-item\"><div class=\"sk-estimator sk-toggleable\"><input class=\"sk-toggleable__control sk-hidden--visually\" id=\"sk-estimator-id-12\" type=\"checkbox\" ><label for=\"sk-estimator-id-12\" class=\"sk-toggleable__label sk-toggleable__label-arrow\">LGBMRegressor</label><div class=\"sk-toggleable__content\"><pre>LGBMRegressor(colsample_bytree=0.6237421121741338,\n",
       "              lambda_l1=0.014968558836396594, lambda_l2=0.024025038402942282,\n",
       "              learning_rate=0.01711102441624917, max_depth=13,\n",
       "              min_child_samples=12, min_split_gain=0.10028969929666237,\n",
       "              n_estimators=784, n_jobs=-1, num_leaves=92, random_state=42,\n",
       "              subsample=0.8114831522568513, verbose=-1)</pre></div></div></div></div></div></div></div></div></div></div>"
      ],
      "text/plain": [
       "TransformedTargetRegressor(func=<ufunc 'log1p'>, inverse_func=<ufunc 'expm1'>,\n",
       "                           regressor=LGBMRegressor(colsample_bytree=0.6237421121741338,\n",
       "                                                   lambda_l1=0.014968558836396594,\n",
       "                                                   lambda_l2=0.024025038402942282,\n",
       "                                                   learning_rate=0.01711102441624917,\n",
       "                                                   max_depth=13,\n",
       "                                                   min_child_samples=12,\n",
       "                                                   min_split_gain=0.10028969929666237,\n",
       "                                                   n_estimators=784, n_jobs=-1,\n",
       "                                                   num_leaves=92,\n",
       "                                                   random_state=42,\n",
       "                                                   subsample=0.8114831522568513,\n",
       "                                                   verbose=-1))"
      ]
     },
     "execution_count": 35,
     "metadata": {},
     "output_type": "execute_result"
    }
   ],
   "source": [
    "lgbm_reg_2.fit(X_tr, y_tr)"
   ]
  },
  {
   "cell_type": "code",
   "execution_count": 36,
   "metadata": {
    "execution": {
     "iopub.execute_input": "2024-04-30T12:48:28.504183Z",
     "iopub.status.busy": "2024-04-30T12:48:28.503551Z",
     "iopub.status.idle": "2024-04-30T12:48:28.911429Z",
     "shell.execute_reply": "2024-04-30T12:48:28.910195Z",
     "shell.execute_reply.started": "2024-04-30T12:48:28.504151Z"
    }
   },
   "outputs": [
    {
     "data": {
      "text/plain": [
       "0.14857253688976363"
      ]
     },
     "execution_count": 36,
     "metadata": {},
     "output_type": "execute_result"
    }
   ],
   "source": [
    "evaluation_metric(y_val, lgbm_reg_2.predict(X_val))"
   ]
  },
  {
   "cell_type": "markdown",
   "metadata": {},
   "source": [
    "# # 8.3 CatBoost"
   ]
  },
  {
   "cell_type": "code",
   "execution_count": 37,
   "metadata": {
    "execution": {
     "iopub.execute_input": "2024-04-30T12:48:43.544446Z",
     "iopub.status.busy": "2024-04-30T12:48:43.543699Z",
     "iopub.status.idle": "2024-04-30T12:48:43.556920Z",
     "shell.execute_reply": "2024-04-30T12:48:43.555359Z",
     "shell.execute_reply.started": "2024-04-30T12:48:43.544412Z"
    }
   },
   "outputs": [
    {
     "name": "stderr",
     "output_type": "stream",
     "text": [
      "[I 2024-04-30 12:48:43,551] A new study created in memory with name: CBRegressor\n"
     ]
    }
   ],
   "source": [
    "def cb_objective(trial):\n",
    "    params = {\n",
    "        \"learning_rate\": trial.suggest_float(\"learning_rate\", 0.01, 0.5),\n",
    "        \"max_depth\": trial.suggest_int(\"depth\", 4, 16),\n",
    "        \"l2_leaf_reg\": trial.suggest_float(\"l2_leaf_reg\", 1, 10),\n",
    "        \"n_estimators\": trial.suggest_int(\"n_estimators\", 100, 1500),\n",
    "        \"colsample_bylevel\": trial.suggest_float(\"colsample_bylevel\", 0.5, 1.0),\n",
    "    }\n",
    "    \n",
    "    cb_reg = TransformedTargetRegressor(CatBoostRegressor(**params, random_state=42, grow_policy='SymmetricTree',\n",
    "                               random_strength=0, loss_function=\"RMSE\"),\n",
    "                                                     func=np.log1p,\n",
    "                                                     inverse_func=np.expm1)\n",
    "    \n",
    "    cb_reg.fit(X_tr, y_tr, eval_set=[(X_val, y_val)], verbose=False)\n",
    "    \n",
    "    val_scores = evaluation_metric(y_val, cb_reg.predict(X_val))\n",
    "    return val_scores\n",
    "\n",
    "sampler = optuna.samplers.TPESampler(seed=42)  # Using Tree-structured Parzen Estimator sampler for optimization\n",
    "cb_study = optuna.create_study(direction = 'minimize',study_name=\"CBRegressor\", sampler=sampler)"
   ]
  },
  {
   "cell_type": "code",
   "execution_count": 40,
   "metadata": {
    "execution": {
     "iopub.execute_input": "2024-04-30T13:52:32.088566Z",
     "iopub.status.busy": "2024-04-30T13:52:32.088115Z",
     "iopub.status.idle": "2024-04-30T13:52:32.093401Z",
     "shell.execute_reply": "2024-04-30T13:52:32.092527Z",
     "shell.execute_reply.started": "2024-04-30T13:52:32.088536Z"
    }
   },
   "outputs": [],
   "source": [
    "TUNE = False\n",
    "if TUNE:\n",
    "    cb_study.optimize(cb_objective, 60)"
   ]
  },
  {
   "cell_type": "markdown",
   "metadata": {},
   "source": [
    "Catboost 1"
   ]
  },
  {
   "cell_type": "code",
   "execution_count": 41,
   "metadata": {
    "execution": {
     "iopub.execute_input": "2024-04-30T13:52:35.133881Z",
     "iopub.status.busy": "2024-04-30T13:52:35.133457Z",
     "iopub.status.idle": "2024-04-30T13:52:35.140010Z",
     "shell.execute_reply": "2024-04-30T13:52:35.138653Z",
     "shell.execute_reply.started": "2024-04-30T13:52:35.133823Z"
    }
   },
   "outputs": [],
   "source": [
    "cb_params_1 = {\n",
    "    'learning_rate': 0.10605445426625311,\n",
    "    'depth': 6,\n",
    "    'l2_leaf_reg': 9.206629836873022,\n",
    "    'n_estimators': 1383,\n",
    "    'colsample_bylevel': 0.6773475586070697,\n",
    "    'grow_policy': 'SymmetricTree',\n",
    "    'random_strength': 0, \n",
    "    'boost_from_average': True, \n",
    "    'loss_function': 'RMSE',\n",
    "    'verbose': False\n",
    "    }"
   ]
  },
  {
   "cell_type": "code",
   "execution_count": 42,
   "metadata": {
    "execution": {
     "iopub.execute_input": "2024-04-30T13:52:37.987278Z",
     "iopub.status.busy": "2024-04-30T13:52:37.986874Z",
     "iopub.status.idle": "2024-04-30T13:52:37.992706Z",
     "shell.execute_reply": "2024-04-30T13:52:37.991534Z",
     "shell.execute_reply.started": "2024-04-30T13:52:37.987247Z"
    }
   },
   "outputs": [],
   "source": [
    "cat_reg_1 = TransformedTargetRegressor(CatBoostRegressor(**cb_params_1),\n",
    "                                                     func=np.log1p,\n",
    "                                                     inverse_func=np.expm1)"
   ]
  },
  {
   "cell_type": "code",
   "execution_count": 43,
   "metadata": {
    "execution": {
     "iopub.execute_input": "2024-04-30T13:52:43.071983Z",
     "iopub.status.busy": "2024-04-30T13:52:43.071532Z",
     "iopub.status.idle": "2024-04-30T13:52:54.152694Z",
     "shell.execute_reply": "2024-04-30T13:52:54.151441Z",
     "shell.execute_reply.started": "2024-04-30T13:52:43.071942Z"
    }
   },
   "outputs": [
    {
     "data": {
      "text/html": [
       "<style>#sk-container-id-5 {color: black;background-color: white;}#sk-container-id-5 pre{padding: 0;}#sk-container-id-5 div.sk-toggleable {background-color: white;}#sk-container-id-5 label.sk-toggleable__label {cursor: pointer;display: block;width: 100%;margin-bottom: 0;padding: 0.3em;box-sizing: border-box;text-align: center;}#sk-container-id-5 label.sk-toggleable__label-arrow:before {content: \"▸\";float: left;margin-right: 0.25em;color: #696969;}#sk-container-id-5 label.sk-toggleable__label-arrow:hover:before {color: black;}#sk-container-id-5 div.sk-estimator:hover label.sk-toggleable__label-arrow:before {color: black;}#sk-container-id-5 div.sk-toggleable__content {max-height: 0;max-width: 0;overflow: hidden;text-align: left;background-color: #f0f8ff;}#sk-container-id-5 div.sk-toggleable__content pre {margin: 0.2em;color: black;border-radius: 0.25em;background-color: #f0f8ff;}#sk-container-id-5 input.sk-toggleable__control:checked~div.sk-toggleable__content {max-height: 200px;max-width: 100%;overflow: auto;}#sk-container-id-5 input.sk-toggleable__control:checked~label.sk-toggleable__label-arrow:before {content: \"▾\";}#sk-container-id-5 div.sk-estimator input.sk-toggleable__control:checked~label.sk-toggleable__label {background-color: #d4ebff;}#sk-container-id-5 div.sk-label input.sk-toggleable__control:checked~label.sk-toggleable__label {background-color: #d4ebff;}#sk-container-id-5 input.sk-hidden--visually {border: 0;clip: rect(1px 1px 1px 1px);clip: rect(1px, 1px, 1px, 1px);height: 1px;margin: -1px;overflow: hidden;padding: 0;position: absolute;width: 1px;}#sk-container-id-5 div.sk-estimator {font-family: monospace;background-color: #f0f8ff;border: 1px dotted black;border-radius: 0.25em;box-sizing: border-box;margin-bottom: 0.5em;}#sk-container-id-5 div.sk-estimator:hover {background-color: #d4ebff;}#sk-container-id-5 div.sk-parallel-item::after {content: \"\";width: 100%;border-bottom: 1px solid gray;flex-grow: 1;}#sk-container-id-5 div.sk-label:hover label.sk-toggleable__label {background-color: #d4ebff;}#sk-container-id-5 div.sk-serial::before {content: \"\";position: absolute;border-left: 1px solid gray;box-sizing: border-box;top: 0;bottom: 0;left: 50%;z-index: 0;}#sk-container-id-5 div.sk-serial {display: flex;flex-direction: column;align-items: center;background-color: white;padding-right: 0.2em;padding-left: 0.2em;position: relative;}#sk-container-id-5 div.sk-item {position: relative;z-index: 1;}#sk-container-id-5 div.sk-parallel {display: flex;align-items: stretch;justify-content: center;background-color: white;position: relative;}#sk-container-id-5 div.sk-item::before, #sk-container-id-5 div.sk-parallel-item::before {content: \"\";position: absolute;border-left: 1px solid gray;box-sizing: border-box;top: 0;bottom: 0;left: 50%;z-index: -1;}#sk-container-id-5 div.sk-parallel-item {display: flex;flex-direction: column;z-index: 1;position: relative;background-color: white;}#sk-container-id-5 div.sk-parallel-item:first-child::after {align-self: flex-end;width: 50%;}#sk-container-id-5 div.sk-parallel-item:last-child::after {align-self: flex-start;width: 50%;}#sk-container-id-5 div.sk-parallel-item:only-child::after {width: 0;}#sk-container-id-5 div.sk-dashed-wrapped {border: 1px dashed gray;margin: 0 0.4em 0.5em 0.4em;box-sizing: border-box;padding-bottom: 0.4em;background-color: white;}#sk-container-id-5 div.sk-label label {font-family: monospace;font-weight: bold;display: inline-block;line-height: 1.2em;}#sk-container-id-5 div.sk-label-container {text-align: center;}#sk-container-id-5 div.sk-container {/* jupyter's `normalize.less` sets `[hidden] { display: none; }` but bootstrap.min.css set `[hidden] { display: none !important; }` so we also need the `!important` here to be able to override the default hidden behavior on the sphinx rendered scikit-learn.org. See: https://github.com/scikit-learn/scikit-learn/issues/21755 */display: inline-block !important;position: relative;}#sk-container-id-5 div.sk-text-repr-fallback {display: none;}</style><div id=\"sk-container-id-5\" class=\"sk-top-container\"><div class=\"sk-text-repr-fallback\"><pre>TransformedTargetRegressor(func=&lt;ufunc &#x27;log1p&#x27;&gt;, inverse_func=&lt;ufunc &#x27;expm1&#x27;&gt;,\n",
       "                           regressor=&lt;catboost.core.CatBoostRegressor object at 0x7a87e0e42770&gt;)</pre><b>In a Jupyter environment, please rerun this cell to show the HTML representation or trust the notebook. <br />On GitHub, the HTML representation is unable to render, please try loading this page with nbviewer.org.</b></div><div class=\"sk-container\" hidden><div class=\"sk-item sk-dashed-wrapped\"><div class=\"sk-label-container\"><div class=\"sk-label sk-toggleable\"><input class=\"sk-toggleable__control sk-hidden--visually\" id=\"sk-estimator-id-13\" type=\"checkbox\" ><label for=\"sk-estimator-id-13\" class=\"sk-toggleable__label sk-toggleable__label-arrow\">TransformedTargetRegressor</label><div class=\"sk-toggleable__content\"><pre>TransformedTargetRegressor(func=&lt;ufunc &#x27;log1p&#x27;&gt;, inverse_func=&lt;ufunc &#x27;expm1&#x27;&gt;,\n",
       "                           regressor=&lt;catboost.core.CatBoostRegressor object at 0x7a87e0e42770&gt;)</pre></div></div></div><div class=\"sk-parallel\"><div class=\"sk-parallel-item\"><div class=\"sk-item\"><div class=\"sk-label-container\"><div class=\"sk-label sk-toggleable\"><input class=\"sk-toggleable__control sk-hidden--visually\" id=\"sk-estimator-id-14\" type=\"checkbox\" ><label for=\"sk-estimator-id-14\" class=\"sk-toggleable__label sk-toggleable__label-arrow\">regressor: CatBoostRegressor</label><div class=\"sk-toggleable__content\"><pre>&lt;catboost.core.CatBoostRegressor object at 0x7a87e0e42770&gt;</pre></div></div></div><div class=\"sk-serial\"><div class=\"sk-item\"><div class=\"sk-estimator sk-toggleable\"><input class=\"sk-toggleable__control sk-hidden--visually\" id=\"sk-estimator-id-15\" type=\"checkbox\" ><label for=\"sk-estimator-id-15\" class=\"sk-toggleable__label sk-toggleable__label-arrow\">CatBoostRegressor</label><div class=\"sk-toggleable__content\"><pre>&lt;catboost.core.CatBoostRegressor object at 0x7a87e0e42770&gt;</pre></div></div></div></div></div></div></div></div></div></div>"
      ],
      "text/plain": [
       "TransformedTargetRegressor(func=<ufunc 'log1p'>, inverse_func=<ufunc 'expm1'>,\n",
       "                           regressor=<catboost.core.CatBoostRegressor object at 0x7a87e0e42770>)"
      ]
     },
     "execution_count": 43,
     "metadata": {},
     "output_type": "execute_result"
    }
   ],
   "source": [
    "cat_reg_1.fit(X_tr, y_tr)"
   ]
  },
  {
   "cell_type": "code",
   "execution_count": 44,
   "metadata": {
    "execution": {
     "iopub.execute_input": "2024-04-30T13:52:54.155478Z",
     "iopub.status.busy": "2024-04-30T13:52:54.155039Z",
     "iopub.status.idle": "2024-04-30T13:52:54.195483Z",
     "shell.execute_reply": "2024-04-30T13:52:54.194195Z",
     "shell.execute_reply.started": "2024-04-30T13:52:54.155439Z"
    }
   },
   "outputs": [
    {
     "data": {
      "text/plain": [
       "0.1479613952786055"
      ]
     },
     "execution_count": 44,
     "metadata": {},
     "output_type": "execute_result"
    }
   ],
   "source": [
    "evaluation_metric(y_val, cat_reg_1.predict(X_val))"
   ]
  },
  {
   "cell_type": "markdown",
   "metadata": {},
   "source": [
    "Catboost 2"
   ]
  },
  {
   "cell_type": "code",
   "execution_count": 45,
   "metadata": {
    "execution": {
     "iopub.execute_input": "2024-04-30T13:52:54.199489Z",
     "iopub.status.busy": "2024-04-30T13:52:54.199123Z",
     "iopub.status.idle": "2024-04-30T13:52:54.206166Z",
     "shell.execute_reply": "2024-04-30T13:52:54.204921Z",
     "shell.execute_reply.started": "2024-04-30T13:52:54.199453Z"
    }
   },
   "outputs": [],
   "source": [
    "cb_params_2 = {\n",
    "    'learning_rate': 0.11286727482639491,\n",
    "    'depth': 5,\n",
    "    'l2_leaf_reg': 9.140871295975039,\n",
    "    'n_estimators': 1173,\n",
    "    'colsample_bylevel': 0.6185578793283091,\n",
    "    'grow_policy': 'SymmetricTree',\n",
    "    'random_strength': 0, \n",
    "    'boost_from_average': True, \n",
    "    'loss_function': 'RMSE',\n",
    "    'verbose': False\n",
    "    }"
   ]
  },
  {
   "cell_type": "code",
   "execution_count": 46,
   "metadata": {
    "execution": {
     "iopub.execute_input": "2024-04-30T13:53:05.290580Z",
     "iopub.status.busy": "2024-04-30T13:53:05.290202Z",
     "iopub.status.idle": "2024-04-30T13:53:05.296419Z",
     "shell.execute_reply": "2024-04-30T13:53:05.295203Z",
     "shell.execute_reply.started": "2024-04-30T13:53:05.290552Z"
    }
   },
   "outputs": [],
   "source": [
    "cat_reg_2 = TransformedTargetRegressor(CatBoostRegressor(**cb_params_2),\n",
    "                                                     func=np.log1p,\n",
    "                                                     inverse_func=np.expm1)"
   ]
  },
  {
   "cell_type": "code",
   "execution_count": 47,
   "metadata": {
    "execution": {
     "iopub.execute_input": "2024-04-30T13:53:07.550163Z",
     "iopub.status.busy": "2024-04-30T13:53:07.549246Z",
     "iopub.status.idle": "2024-04-30T13:53:15.744598Z",
     "shell.execute_reply": "2024-04-30T13:53:15.743218Z",
     "shell.execute_reply.started": "2024-04-30T13:53:07.550125Z"
    }
   },
   "outputs": [
    {
     "data": {
      "text/html": [
       "<style>#sk-container-id-6 {color: black;background-color: white;}#sk-container-id-6 pre{padding: 0;}#sk-container-id-6 div.sk-toggleable {background-color: white;}#sk-container-id-6 label.sk-toggleable__label {cursor: pointer;display: block;width: 100%;margin-bottom: 0;padding: 0.3em;box-sizing: border-box;text-align: center;}#sk-container-id-6 label.sk-toggleable__label-arrow:before {content: \"▸\";float: left;margin-right: 0.25em;color: #696969;}#sk-container-id-6 label.sk-toggleable__label-arrow:hover:before {color: black;}#sk-container-id-6 div.sk-estimator:hover label.sk-toggleable__label-arrow:before {color: black;}#sk-container-id-6 div.sk-toggleable__content {max-height: 0;max-width: 0;overflow: hidden;text-align: left;background-color: #f0f8ff;}#sk-container-id-6 div.sk-toggleable__content pre {margin: 0.2em;color: black;border-radius: 0.25em;background-color: #f0f8ff;}#sk-container-id-6 input.sk-toggleable__control:checked~div.sk-toggleable__content {max-height: 200px;max-width: 100%;overflow: auto;}#sk-container-id-6 input.sk-toggleable__control:checked~label.sk-toggleable__label-arrow:before {content: \"▾\";}#sk-container-id-6 div.sk-estimator input.sk-toggleable__control:checked~label.sk-toggleable__label {background-color: #d4ebff;}#sk-container-id-6 div.sk-label input.sk-toggleable__control:checked~label.sk-toggleable__label {background-color: #d4ebff;}#sk-container-id-6 input.sk-hidden--visually {border: 0;clip: rect(1px 1px 1px 1px);clip: rect(1px, 1px, 1px, 1px);height: 1px;margin: -1px;overflow: hidden;padding: 0;position: absolute;width: 1px;}#sk-container-id-6 div.sk-estimator {font-family: monospace;background-color: #f0f8ff;border: 1px dotted black;border-radius: 0.25em;box-sizing: border-box;margin-bottom: 0.5em;}#sk-container-id-6 div.sk-estimator:hover {background-color: #d4ebff;}#sk-container-id-6 div.sk-parallel-item::after {content: \"\";width: 100%;border-bottom: 1px solid gray;flex-grow: 1;}#sk-container-id-6 div.sk-label:hover label.sk-toggleable__label {background-color: #d4ebff;}#sk-container-id-6 div.sk-serial::before {content: \"\";position: absolute;border-left: 1px solid gray;box-sizing: border-box;top: 0;bottom: 0;left: 50%;z-index: 0;}#sk-container-id-6 div.sk-serial {display: flex;flex-direction: column;align-items: center;background-color: white;padding-right: 0.2em;padding-left: 0.2em;position: relative;}#sk-container-id-6 div.sk-item {position: relative;z-index: 1;}#sk-container-id-6 div.sk-parallel {display: flex;align-items: stretch;justify-content: center;background-color: white;position: relative;}#sk-container-id-6 div.sk-item::before, #sk-container-id-6 div.sk-parallel-item::before {content: \"\";position: absolute;border-left: 1px solid gray;box-sizing: border-box;top: 0;bottom: 0;left: 50%;z-index: -1;}#sk-container-id-6 div.sk-parallel-item {display: flex;flex-direction: column;z-index: 1;position: relative;background-color: white;}#sk-container-id-6 div.sk-parallel-item:first-child::after {align-self: flex-end;width: 50%;}#sk-container-id-6 div.sk-parallel-item:last-child::after {align-self: flex-start;width: 50%;}#sk-container-id-6 div.sk-parallel-item:only-child::after {width: 0;}#sk-container-id-6 div.sk-dashed-wrapped {border: 1px dashed gray;margin: 0 0.4em 0.5em 0.4em;box-sizing: border-box;padding-bottom: 0.4em;background-color: white;}#sk-container-id-6 div.sk-label label {font-family: monospace;font-weight: bold;display: inline-block;line-height: 1.2em;}#sk-container-id-6 div.sk-label-container {text-align: center;}#sk-container-id-6 div.sk-container {/* jupyter's `normalize.less` sets `[hidden] { display: none; }` but bootstrap.min.css set `[hidden] { display: none !important; }` so we also need the `!important` here to be able to override the default hidden behavior on the sphinx rendered scikit-learn.org. See: https://github.com/scikit-learn/scikit-learn/issues/21755 */display: inline-block !important;position: relative;}#sk-container-id-6 div.sk-text-repr-fallback {display: none;}</style><div id=\"sk-container-id-6\" class=\"sk-top-container\"><div class=\"sk-text-repr-fallback\"><pre>TransformedTargetRegressor(func=&lt;ufunc &#x27;log1p&#x27;&gt;, inverse_func=&lt;ufunc &#x27;expm1&#x27;&gt;,\n",
       "                           regressor=&lt;catboost.core.CatBoostRegressor object at 0x7a87e0e6c6a0&gt;)</pre><b>In a Jupyter environment, please rerun this cell to show the HTML representation or trust the notebook. <br />On GitHub, the HTML representation is unable to render, please try loading this page with nbviewer.org.</b></div><div class=\"sk-container\" hidden><div class=\"sk-item sk-dashed-wrapped\"><div class=\"sk-label-container\"><div class=\"sk-label sk-toggleable\"><input class=\"sk-toggleable__control sk-hidden--visually\" id=\"sk-estimator-id-16\" type=\"checkbox\" ><label for=\"sk-estimator-id-16\" class=\"sk-toggleable__label sk-toggleable__label-arrow\">TransformedTargetRegressor</label><div class=\"sk-toggleable__content\"><pre>TransformedTargetRegressor(func=&lt;ufunc &#x27;log1p&#x27;&gt;, inverse_func=&lt;ufunc &#x27;expm1&#x27;&gt;,\n",
       "                           regressor=&lt;catboost.core.CatBoostRegressor object at 0x7a87e0e6c6a0&gt;)</pre></div></div></div><div class=\"sk-parallel\"><div class=\"sk-parallel-item\"><div class=\"sk-item\"><div class=\"sk-label-container\"><div class=\"sk-label sk-toggleable\"><input class=\"sk-toggleable__control sk-hidden--visually\" id=\"sk-estimator-id-17\" type=\"checkbox\" ><label for=\"sk-estimator-id-17\" class=\"sk-toggleable__label sk-toggleable__label-arrow\">regressor: CatBoostRegressor</label><div class=\"sk-toggleable__content\"><pre>&lt;catboost.core.CatBoostRegressor object at 0x7a87e0e6c6a0&gt;</pre></div></div></div><div class=\"sk-serial\"><div class=\"sk-item\"><div class=\"sk-estimator sk-toggleable\"><input class=\"sk-toggleable__control sk-hidden--visually\" id=\"sk-estimator-id-18\" type=\"checkbox\" ><label for=\"sk-estimator-id-18\" class=\"sk-toggleable__label sk-toggleable__label-arrow\">CatBoostRegressor</label><div class=\"sk-toggleable__content\"><pre>&lt;catboost.core.CatBoostRegressor object at 0x7a87e0e6c6a0&gt;</pre></div></div></div></div></div></div></div></div></div></div>"
      ],
      "text/plain": [
       "TransformedTargetRegressor(func=<ufunc 'log1p'>, inverse_func=<ufunc 'expm1'>,\n",
       "                           regressor=<catboost.core.CatBoostRegressor object at 0x7a87e0e6c6a0>)"
      ]
     },
     "execution_count": 47,
     "metadata": {},
     "output_type": "execute_result"
    }
   ],
   "source": [
    "cat_reg_2.fit(X_tr, y_tr)"
   ]
  },
  {
   "cell_type": "code",
   "execution_count": 48,
   "metadata": {
    "execution": {
     "iopub.execute_input": "2024-04-30T13:53:15.747017Z",
     "iopub.status.busy": "2024-04-30T13:53:15.746561Z",
     "iopub.status.idle": "2024-04-30T13:53:15.779508Z",
     "shell.execute_reply": "2024-04-30T13:53:15.778422Z",
     "shell.execute_reply.started": "2024-04-30T13:53:15.746983Z"
    }
   },
   "outputs": [
    {
     "data": {
      "text/plain": [
       "0.14809846783148756"
      ]
     },
     "execution_count": 48,
     "metadata": {},
     "output_type": "execute_result"
    }
   ],
   "source": [
    "evaluation_metric(y_val, cat_reg_2.predict(X_val))"
   ]
  },
  {
   "cell_type": "markdown",
   "metadata": {},
   "source": [
    "# # 8.4 HGBoost "
   ]
  },
  {
   "cell_type": "code",
   "execution_count": 49,
   "metadata": {
    "execution": {
     "iopub.execute_input": "2024-04-30T13:53:36.005194Z",
     "iopub.status.busy": "2024-04-30T13:53:36.004785Z",
     "iopub.status.idle": "2024-04-30T13:53:36.017732Z",
     "shell.execute_reply": "2024-04-30T13:53:36.016310Z",
     "shell.execute_reply.started": "2024-04-30T13:53:36.005165Z"
    }
   },
   "outputs": [
    {
     "name": "stderr",
     "output_type": "stream",
     "text": [
      "[I 2024-04-30 13:53:36,012] A new study created in memory with name: HGBRegressor\n"
     ]
    }
   ],
   "source": [
    "def hgb_objective(trial):\n",
    "    params = {\n",
    "        \"max_leaf_nodes\": trial.suggest_int('max_leaf_nodes', 10, 40),\n",
    "        \"learning_rate\": trial.suggest_float('learning_rate', 0, 0.5),\n",
    "        \"max_depth\": trial.suggest_int('max_depth', 3, 20),\n",
    "        \"min_samples_leaf\": trial.suggest_int('min_samples_leaf', 10, 40),\n",
    "        \"max_bins\": trial.suggest_int('max_bins', 2, 255),\n",
    "        \"random_state\": 42\n",
    "    }\n",
    "    \n",
    "    hgb_reg = TransformedTargetRegressor(HistGradientBoostingRegressor(**params),\n",
    "                                                     func=np.log1p,\n",
    "                                                     inverse_func=np.expm1)\n",
    "    \n",
    "    # , eval_set=[(X_val, y_val)]\n",
    "    hgb_reg.fit(X_tr, y_tr)\n",
    "    \n",
    "    val_scores = evaluation_metric(y_val, hgb_reg.predict(X_val))\n",
    "    return val_scores\n",
    "\n",
    "sampler = optuna.samplers.TPESampler(seed=42)\n",
    "hgb_study = optuna.create_study(direction=\"minimize\", study_name=\"HGBRegressor\", sampler=sampler)"
   ]
  },
  {
   "cell_type": "code",
   "execution_count": 56,
   "metadata": {
    "execution": {
     "iopub.execute_input": "2024-04-30T14:03:30.941390Z",
     "iopub.status.busy": "2024-04-30T14:03:30.940969Z",
     "iopub.status.idle": "2024-04-30T14:03:30.947225Z",
     "shell.execute_reply": "2024-04-30T14:03:30.945729Z",
     "shell.execute_reply.started": "2024-04-30T14:03:30.941358Z"
    }
   },
   "outputs": [],
   "source": [
    "TUNE = False\n",
    "if TUNE:\n",
    "    # Start optimizing with 200 trials\n",
    "    hgb_study.optimize(hgb_objective, 200)"
   ]
  },
  {
   "cell_type": "markdown",
   "metadata": {},
   "source": [
    "HGBoost 1"
   ]
  },
  {
   "cell_type": "code",
   "execution_count": 52,
   "metadata": {
    "execution": {
     "iopub.execute_input": "2024-04-30T14:02:00.985073Z",
     "iopub.status.busy": "2024-04-30T14:02:00.984619Z",
     "iopub.status.idle": "2024-04-30T14:02:00.991300Z",
     "shell.execute_reply": "2024-04-30T14:02:00.989935Z",
     "shell.execute_reply.started": "2024-04-30T14:02:00.985039Z"
    }
   },
   "outputs": [],
   "source": [
    "hgb_params_1 = {\n",
    "    'max_leaf_nodes': 37,\n",
    "    'learning_rate': 0.1295378116724848,\n",
    "    'max_depth': 20,\n",
    "    'min_samples_leaf': 37,\n",
    "    'max_bins': 237,\n",
    "    'random_state': 42\n",
    "}"
   ]
  },
  {
   "cell_type": "code",
   "execution_count": 53,
   "metadata": {
    "execution": {
     "iopub.execute_input": "2024-04-30T14:02:02.943167Z",
     "iopub.status.busy": "2024-04-30T14:02:02.942647Z",
     "iopub.status.idle": "2024-04-30T14:02:02.950000Z",
     "shell.execute_reply": "2024-04-30T14:02:02.948542Z",
     "shell.execute_reply.started": "2024-04-30T14:02:02.943132Z"
    }
   },
   "outputs": [],
   "source": [
    "hgb_reg_1 = TransformedTargetRegressor(HistGradientBoostingRegressor(**hgb_params_1),\n",
    "                                                     func=np.log1p,\n",
    "                                                     inverse_func=np.expm1)"
   ]
  },
  {
   "cell_type": "code",
   "execution_count": 54,
   "metadata": {
    "execution": {
     "iopub.execute_input": "2024-04-30T14:02:06.753690Z",
     "iopub.status.busy": "2024-04-30T14:02:06.753307Z",
     "iopub.status.idle": "2024-04-30T14:02:08.207353Z",
     "shell.execute_reply": "2024-04-30T14:02:08.206042Z",
     "shell.execute_reply.started": "2024-04-30T14:02:06.753660Z"
    }
   },
   "outputs": [
    {
     "data": {
      "text/html": [
       "<style>#sk-container-id-7 {color: black;background-color: white;}#sk-container-id-7 pre{padding: 0;}#sk-container-id-7 div.sk-toggleable {background-color: white;}#sk-container-id-7 label.sk-toggleable__label {cursor: pointer;display: block;width: 100%;margin-bottom: 0;padding: 0.3em;box-sizing: border-box;text-align: center;}#sk-container-id-7 label.sk-toggleable__label-arrow:before {content: \"▸\";float: left;margin-right: 0.25em;color: #696969;}#sk-container-id-7 label.sk-toggleable__label-arrow:hover:before {color: black;}#sk-container-id-7 div.sk-estimator:hover label.sk-toggleable__label-arrow:before {color: black;}#sk-container-id-7 div.sk-toggleable__content {max-height: 0;max-width: 0;overflow: hidden;text-align: left;background-color: #f0f8ff;}#sk-container-id-7 div.sk-toggleable__content pre {margin: 0.2em;color: black;border-radius: 0.25em;background-color: #f0f8ff;}#sk-container-id-7 input.sk-toggleable__control:checked~div.sk-toggleable__content {max-height: 200px;max-width: 100%;overflow: auto;}#sk-container-id-7 input.sk-toggleable__control:checked~label.sk-toggleable__label-arrow:before {content: \"▾\";}#sk-container-id-7 div.sk-estimator input.sk-toggleable__control:checked~label.sk-toggleable__label {background-color: #d4ebff;}#sk-container-id-7 div.sk-label input.sk-toggleable__control:checked~label.sk-toggleable__label {background-color: #d4ebff;}#sk-container-id-7 input.sk-hidden--visually {border: 0;clip: rect(1px 1px 1px 1px);clip: rect(1px, 1px, 1px, 1px);height: 1px;margin: -1px;overflow: hidden;padding: 0;position: absolute;width: 1px;}#sk-container-id-7 div.sk-estimator {font-family: monospace;background-color: #f0f8ff;border: 1px dotted black;border-radius: 0.25em;box-sizing: border-box;margin-bottom: 0.5em;}#sk-container-id-7 div.sk-estimator:hover {background-color: #d4ebff;}#sk-container-id-7 div.sk-parallel-item::after {content: \"\";width: 100%;border-bottom: 1px solid gray;flex-grow: 1;}#sk-container-id-7 div.sk-label:hover label.sk-toggleable__label {background-color: #d4ebff;}#sk-container-id-7 div.sk-serial::before {content: \"\";position: absolute;border-left: 1px solid gray;box-sizing: border-box;top: 0;bottom: 0;left: 50%;z-index: 0;}#sk-container-id-7 div.sk-serial {display: flex;flex-direction: column;align-items: center;background-color: white;padding-right: 0.2em;padding-left: 0.2em;position: relative;}#sk-container-id-7 div.sk-item {position: relative;z-index: 1;}#sk-container-id-7 div.sk-parallel {display: flex;align-items: stretch;justify-content: center;background-color: white;position: relative;}#sk-container-id-7 div.sk-item::before, #sk-container-id-7 div.sk-parallel-item::before {content: \"\";position: absolute;border-left: 1px solid gray;box-sizing: border-box;top: 0;bottom: 0;left: 50%;z-index: -1;}#sk-container-id-7 div.sk-parallel-item {display: flex;flex-direction: column;z-index: 1;position: relative;background-color: white;}#sk-container-id-7 div.sk-parallel-item:first-child::after {align-self: flex-end;width: 50%;}#sk-container-id-7 div.sk-parallel-item:last-child::after {align-self: flex-start;width: 50%;}#sk-container-id-7 div.sk-parallel-item:only-child::after {width: 0;}#sk-container-id-7 div.sk-dashed-wrapped {border: 1px dashed gray;margin: 0 0.4em 0.5em 0.4em;box-sizing: border-box;padding-bottom: 0.4em;background-color: white;}#sk-container-id-7 div.sk-label label {font-family: monospace;font-weight: bold;display: inline-block;line-height: 1.2em;}#sk-container-id-7 div.sk-label-container {text-align: center;}#sk-container-id-7 div.sk-container {/* jupyter's `normalize.less` sets `[hidden] { display: none; }` but bootstrap.min.css set `[hidden] { display: none !important; }` so we also need the `!important` here to be able to override the default hidden behavior on the sphinx rendered scikit-learn.org. See: https://github.com/scikit-learn/scikit-learn/issues/21755 */display: inline-block !important;position: relative;}#sk-container-id-7 div.sk-text-repr-fallback {display: none;}</style><div id=\"sk-container-id-7\" class=\"sk-top-container\"><div class=\"sk-text-repr-fallback\"><pre>TransformedTargetRegressor(func=&lt;ufunc &#x27;log1p&#x27;&gt;, inverse_func=&lt;ufunc &#x27;expm1&#x27;&gt;,\n",
       "                           regressor=HistGradientBoostingRegressor(learning_rate=0.1295378116724848,\n",
       "                                                                   max_bins=237,\n",
       "                                                                   max_depth=20,\n",
       "                                                                   max_leaf_nodes=37,\n",
       "                                                                   min_samples_leaf=37,\n",
       "                                                                   random_state=42))</pre><b>In a Jupyter environment, please rerun this cell to show the HTML representation or trust the notebook. <br />On GitHub, the HTML representation is unable to render, please try loading this page with nbviewer.org.</b></div><div class=\"sk-container\" hidden><div class=\"sk-item sk-dashed-wrapped\"><div class=\"sk-label-container\"><div class=\"sk-label sk-toggleable\"><input class=\"sk-toggleable__control sk-hidden--visually\" id=\"sk-estimator-id-19\" type=\"checkbox\" ><label for=\"sk-estimator-id-19\" class=\"sk-toggleable__label sk-toggleable__label-arrow\">TransformedTargetRegressor</label><div class=\"sk-toggleable__content\"><pre>TransformedTargetRegressor(func=&lt;ufunc &#x27;log1p&#x27;&gt;, inverse_func=&lt;ufunc &#x27;expm1&#x27;&gt;,\n",
       "                           regressor=HistGradientBoostingRegressor(learning_rate=0.1295378116724848,\n",
       "                                                                   max_bins=237,\n",
       "                                                                   max_depth=20,\n",
       "                                                                   max_leaf_nodes=37,\n",
       "                                                                   min_samples_leaf=37,\n",
       "                                                                   random_state=42))</pre></div></div></div><div class=\"sk-parallel\"><div class=\"sk-parallel-item\"><div class=\"sk-item\"><div class=\"sk-label-container\"><div class=\"sk-label sk-toggleable\"><input class=\"sk-toggleable__control sk-hidden--visually\" id=\"sk-estimator-id-20\" type=\"checkbox\" ><label for=\"sk-estimator-id-20\" class=\"sk-toggleable__label sk-toggleable__label-arrow\">regressor: HistGradientBoostingRegressor</label><div class=\"sk-toggleable__content\"><pre>HistGradientBoostingRegressor(learning_rate=0.1295378116724848, max_bins=237,\n",
       "                              max_depth=20, max_leaf_nodes=37,\n",
       "                              min_samples_leaf=37, random_state=42)</pre></div></div></div><div class=\"sk-serial\"><div class=\"sk-item\"><div class=\"sk-estimator sk-toggleable\"><input class=\"sk-toggleable__control sk-hidden--visually\" id=\"sk-estimator-id-21\" type=\"checkbox\" ><label for=\"sk-estimator-id-21\" class=\"sk-toggleable__label sk-toggleable__label-arrow\">HistGradientBoostingRegressor</label><div class=\"sk-toggleable__content\"><pre>HistGradientBoostingRegressor(learning_rate=0.1295378116724848, max_bins=237,\n",
       "                              max_depth=20, max_leaf_nodes=37,\n",
       "                              min_samples_leaf=37, random_state=42)</pre></div></div></div></div></div></div></div></div></div></div>"
      ],
      "text/plain": [
       "TransformedTargetRegressor(func=<ufunc 'log1p'>, inverse_func=<ufunc 'expm1'>,\n",
       "                           regressor=HistGradientBoostingRegressor(learning_rate=0.1295378116724848,\n",
       "                                                                   max_bins=237,\n",
       "                                                                   max_depth=20,\n",
       "                                                                   max_leaf_nodes=37,\n",
       "                                                                   min_samples_leaf=37,\n",
       "                                                                   random_state=42))"
      ]
     },
     "execution_count": 54,
     "metadata": {},
     "output_type": "execute_result"
    }
   ],
   "source": [
    "hgb_reg_1.fit(X_tr, y_tr)"
   ]
  },
  {
   "cell_type": "code",
   "execution_count": 55,
   "metadata": {
    "execution": {
     "iopub.execute_input": "2024-04-30T14:02:12.214613Z",
     "iopub.status.busy": "2024-04-30T14:02:12.214222Z",
     "iopub.status.idle": "2024-04-30T14:02:12.388582Z",
     "shell.execute_reply": "2024-04-30T14:02:12.387224Z",
     "shell.execute_reply.started": "2024-04-30T14:02:12.214585Z"
    }
   },
   "outputs": [
    {
     "data": {
      "text/plain": [
       "0.1490761161309024"
      ]
     },
     "execution_count": 55,
     "metadata": {},
     "output_type": "execute_result"
    }
   ],
   "source": [
    "evaluation_metric(y_val, hgb_reg_1.predict(X_val))"
   ]
  },
  {
   "cell_type": "markdown",
   "metadata": {},
   "source": [
    "# # 8.5 RandomForest "
   ]
  },
  {
   "cell_type": "markdown",
   "metadata": {},
   "source": [
    "https://www.kaggle.com/code/mustafagerme/optimization-of-random-forest-model-using-optuna"
   ]
  },
  {
   "cell_type": "code",
   "execution_count": 57,
   "metadata": {
    "execution": {
     "iopub.execute_input": "2024-04-30T14:03:43.111486Z",
     "iopub.status.busy": "2024-04-30T14:03:43.111084Z",
     "iopub.status.idle": "2024-04-30T14:03:43.124421Z",
     "shell.execute_reply": "2024-04-30T14:03:43.123527Z",
     "shell.execute_reply.started": "2024-04-30T14:03:43.111455Z"
    }
   },
   "outputs": [
    {
     "name": "stderr",
     "output_type": "stream",
     "text": [
      "[I 2024-04-30 14:03:43,120] A new study created in memory with name: RFRegressor\n"
     ]
    }
   ],
   "source": [
    "# Define objective function\n",
    "def rf_objective(trial):\n",
    "    # Suggest values for hyperparameters\n",
    "    params = {\n",
    "        \"n_estimators\": trial.suggest_int(\"n_estimators\", 10, 200, log=True),\n",
    "        \"max_depth\": trial.suggest_int(\"max_depth\", 2, 32),\n",
    "        \"min_samples_split\": trial.suggest_int(\"min_samples_split\", 2, 10),\n",
    "        \"min_samples_leaf\": trial.suggest_int(\"min_samples_leaf\", 1, 10),\n",
    "        \"n_jobs\": -1, \n",
    "        \"random_state\": 42\n",
    "    }\n",
    "    \n",
    "    \n",
    "    rf_reg = TransformedTargetRegressor(RandomForestRegressor(**params),\n",
    "                                                     func=np.log1p,\n",
    "                                                     inverse_func=np.expm1)\n",
    "    \n",
    "    # , eval_set=[(X_val, y_val)]\n",
    "    rf_reg.fit(X_tr, y_tr)\n",
    "    \n",
    "    val_scores = evaluation_metric(y_val, rf_reg.predict(X_val))\n",
    "    return val_scores\n",
    "\n",
    "sampler = optuna.samplers.TPESampler(seed=42)\n",
    "rf_study = optuna.create_study(direction=\"minimize\", study_name=\"RFRegressor\", sampler=sampler)"
   ]
  },
  {
   "cell_type": "code",
   "execution_count": 60,
   "metadata": {
    "execution": {
     "iopub.execute_input": "2024-04-30T14:25:03.162591Z",
     "iopub.status.busy": "2024-04-30T14:25:03.162190Z",
     "iopub.status.idle": "2024-04-30T14:25:03.172992Z",
     "shell.execute_reply": "2024-04-30T14:25:03.171536Z",
     "shell.execute_reply.started": "2024-04-30T14:25:03.162560Z"
    }
   },
   "outputs": [],
   "source": [
    "# Run optimization process\n",
    "TUNE = False\n",
    "if TUNE:\n",
    "    rf_study.optimize(rf_objective, n_trials=50, show_progress_bar=True)"
   ]
  },
  {
   "cell_type": "markdown",
   "metadata": {},
   "source": [
    "Random Forest 1"
   ]
  },
  {
   "cell_type": "code",
   "execution_count": 61,
   "metadata": {
    "execution": {
     "iopub.execute_input": "2024-04-30T14:25:08.880551Z",
     "iopub.status.busy": "2024-04-30T14:25:08.880156Z",
     "iopub.status.idle": "2024-04-30T14:25:08.888716Z",
     "shell.execute_reply": "2024-04-30T14:25:08.887470Z",
     "shell.execute_reply.started": "2024-04-30T14:25:08.880521Z"
    }
   },
   "outputs": [],
   "source": [
    "rf_params_1 = {\n",
    "    'n_estimators': 195,\n",
    "    'max_depth': 13,\n",
    "    'min_samples_split': 10,\n",
    "    'min_samples_leaf': 8,\n",
    "    \"n_jobs\": -1, \n",
    "    \"random_state\": 42\n",
    "}"
   ]
  },
  {
   "cell_type": "code",
   "execution_count": 62,
   "metadata": {
    "execution": {
     "iopub.execute_input": "2024-04-30T14:25:12.360464Z",
     "iopub.status.busy": "2024-04-30T14:25:12.360056Z",
     "iopub.status.idle": "2024-04-30T14:25:12.368384Z",
     "shell.execute_reply": "2024-04-30T14:25:12.367346Z",
     "shell.execute_reply.started": "2024-04-30T14:25:12.360436Z"
    }
   },
   "outputs": [],
   "source": [
    "rf_reg_1 = TransformedTargetRegressor(RandomForestRegressor(**rf_params_1),\n",
    "                                                     func=np.log1p,\n",
    "                                                     inverse_func=np.expm1)"
   ]
  },
  {
   "cell_type": "code",
   "execution_count": 63,
   "metadata": {
    "execution": {
     "iopub.execute_input": "2024-04-30T14:25:14.896262Z",
     "iopub.status.busy": "2024-04-30T14:25:14.895856Z",
     "iopub.status.idle": "2024-04-30T14:25:58.042631Z",
     "shell.execute_reply": "2024-04-30T14:25:58.041398Z",
     "shell.execute_reply.started": "2024-04-30T14:25:14.896230Z"
    }
   },
   "outputs": [
    {
     "data": {
      "text/html": [
       "<style>#sk-container-id-8 {color: black;background-color: white;}#sk-container-id-8 pre{padding: 0;}#sk-container-id-8 div.sk-toggleable {background-color: white;}#sk-container-id-8 label.sk-toggleable__label {cursor: pointer;display: block;width: 100%;margin-bottom: 0;padding: 0.3em;box-sizing: border-box;text-align: center;}#sk-container-id-8 label.sk-toggleable__label-arrow:before {content: \"▸\";float: left;margin-right: 0.25em;color: #696969;}#sk-container-id-8 label.sk-toggleable__label-arrow:hover:before {color: black;}#sk-container-id-8 div.sk-estimator:hover label.sk-toggleable__label-arrow:before {color: black;}#sk-container-id-8 div.sk-toggleable__content {max-height: 0;max-width: 0;overflow: hidden;text-align: left;background-color: #f0f8ff;}#sk-container-id-8 div.sk-toggleable__content pre {margin: 0.2em;color: black;border-radius: 0.25em;background-color: #f0f8ff;}#sk-container-id-8 input.sk-toggleable__control:checked~div.sk-toggleable__content {max-height: 200px;max-width: 100%;overflow: auto;}#sk-container-id-8 input.sk-toggleable__control:checked~label.sk-toggleable__label-arrow:before {content: \"▾\";}#sk-container-id-8 div.sk-estimator input.sk-toggleable__control:checked~label.sk-toggleable__label {background-color: #d4ebff;}#sk-container-id-8 div.sk-label input.sk-toggleable__control:checked~label.sk-toggleable__label {background-color: #d4ebff;}#sk-container-id-8 input.sk-hidden--visually {border: 0;clip: rect(1px 1px 1px 1px);clip: rect(1px, 1px, 1px, 1px);height: 1px;margin: -1px;overflow: hidden;padding: 0;position: absolute;width: 1px;}#sk-container-id-8 div.sk-estimator {font-family: monospace;background-color: #f0f8ff;border: 1px dotted black;border-radius: 0.25em;box-sizing: border-box;margin-bottom: 0.5em;}#sk-container-id-8 div.sk-estimator:hover {background-color: #d4ebff;}#sk-container-id-8 div.sk-parallel-item::after {content: \"\";width: 100%;border-bottom: 1px solid gray;flex-grow: 1;}#sk-container-id-8 div.sk-label:hover label.sk-toggleable__label {background-color: #d4ebff;}#sk-container-id-8 div.sk-serial::before {content: \"\";position: absolute;border-left: 1px solid gray;box-sizing: border-box;top: 0;bottom: 0;left: 50%;z-index: 0;}#sk-container-id-8 div.sk-serial {display: flex;flex-direction: column;align-items: center;background-color: white;padding-right: 0.2em;padding-left: 0.2em;position: relative;}#sk-container-id-8 div.sk-item {position: relative;z-index: 1;}#sk-container-id-8 div.sk-parallel {display: flex;align-items: stretch;justify-content: center;background-color: white;position: relative;}#sk-container-id-8 div.sk-item::before, #sk-container-id-8 div.sk-parallel-item::before {content: \"\";position: absolute;border-left: 1px solid gray;box-sizing: border-box;top: 0;bottom: 0;left: 50%;z-index: -1;}#sk-container-id-8 div.sk-parallel-item {display: flex;flex-direction: column;z-index: 1;position: relative;background-color: white;}#sk-container-id-8 div.sk-parallel-item:first-child::after {align-self: flex-end;width: 50%;}#sk-container-id-8 div.sk-parallel-item:last-child::after {align-self: flex-start;width: 50%;}#sk-container-id-8 div.sk-parallel-item:only-child::after {width: 0;}#sk-container-id-8 div.sk-dashed-wrapped {border: 1px dashed gray;margin: 0 0.4em 0.5em 0.4em;box-sizing: border-box;padding-bottom: 0.4em;background-color: white;}#sk-container-id-8 div.sk-label label {font-family: monospace;font-weight: bold;display: inline-block;line-height: 1.2em;}#sk-container-id-8 div.sk-label-container {text-align: center;}#sk-container-id-8 div.sk-container {/* jupyter's `normalize.less` sets `[hidden] { display: none; }` but bootstrap.min.css set `[hidden] { display: none !important; }` so we also need the `!important` here to be able to override the default hidden behavior on the sphinx rendered scikit-learn.org. See: https://github.com/scikit-learn/scikit-learn/issues/21755 */display: inline-block !important;position: relative;}#sk-container-id-8 div.sk-text-repr-fallback {display: none;}</style><div id=\"sk-container-id-8\" class=\"sk-top-container\"><div class=\"sk-text-repr-fallback\"><pre>TransformedTargetRegressor(func=&lt;ufunc &#x27;log1p&#x27;&gt;, inverse_func=&lt;ufunc &#x27;expm1&#x27;&gt;,\n",
       "                           regressor=RandomForestRegressor(max_depth=13,\n",
       "                                                           min_samples_leaf=8,\n",
       "                                                           min_samples_split=10,\n",
       "                                                           n_estimators=195,\n",
       "                                                           n_jobs=-1,\n",
       "                                                           random_state=42))</pre><b>In a Jupyter environment, please rerun this cell to show the HTML representation or trust the notebook. <br />On GitHub, the HTML representation is unable to render, please try loading this page with nbviewer.org.</b></div><div class=\"sk-container\" hidden><div class=\"sk-item sk-dashed-wrapped\"><div class=\"sk-label-container\"><div class=\"sk-label sk-toggleable\"><input class=\"sk-toggleable__control sk-hidden--visually\" id=\"sk-estimator-id-22\" type=\"checkbox\" ><label for=\"sk-estimator-id-22\" class=\"sk-toggleable__label sk-toggleable__label-arrow\">TransformedTargetRegressor</label><div class=\"sk-toggleable__content\"><pre>TransformedTargetRegressor(func=&lt;ufunc &#x27;log1p&#x27;&gt;, inverse_func=&lt;ufunc &#x27;expm1&#x27;&gt;,\n",
       "                           regressor=RandomForestRegressor(max_depth=13,\n",
       "                                                           min_samples_leaf=8,\n",
       "                                                           min_samples_split=10,\n",
       "                                                           n_estimators=195,\n",
       "                                                           n_jobs=-1,\n",
       "                                                           random_state=42))</pre></div></div></div><div class=\"sk-parallel\"><div class=\"sk-parallel-item\"><div class=\"sk-item\"><div class=\"sk-label-container\"><div class=\"sk-label sk-toggleable\"><input class=\"sk-toggleable__control sk-hidden--visually\" id=\"sk-estimator-id-23\" type=\"checkbox\" ><label for=\"sk-estimator-id-23\" class=\"sk-toggleable__label sk-toggleable__label-arrow\">regressor: RandomForestRegressor</label><div class=\"sk-toggleable__content\"><pre>RandomForestRegressor(max_depth=13, min_samples_leaf=8, min_samples_split=10,\n",
       "                      n_estimators=195, n_jobs=-1, random_state=42)</pre></div></div></div><div class=\"sk-serial\"><div class=\"sk-item\"><div class=\"sk-estimator sk-toggleable\"><input class=\"sk-toggleable__control sk-hidden--visually\" id=\"sk-estimator-id-24\" type=\"checkbox\" ><label for=\"sk-estimator-id-24\" class=\"sk-toggleable__label sk-toggleable__label-arrow\">RandomForestRegressor</label><div class=\"sk-toggleable__content\"><pre>RandomForestRegressor(max_depth=13, min_samples_leaf=8, min_samples_split=10,\n",
       "                      n_estimators=195, n_jobs=-1, random_state=42)</pre></div></div></div></div></div></div></div></div></div></div>"
      ],
      "text/plain": [
       "TransformedTargetRegressor(func=<ufunc 'log1p'>, inverse_func=<ufunc 'expm1'>,\n",
       "                           regressor=RandomForestRegressor(max_depth=13,\n",
       "                                                           min_samples_leaf=8,\n",
       "                                                           min_samples_split=10,\n",
       "                                                           n_estimators=195,\n",
       "                                                           n_jobs=-1,\n",
       "                                                           random_state=42))"
      ]
     },
     "execution_count": 63,
     "metadata": {},
     "output_type": "execute_result"
    }
   ],
   "source": [
    "rf_reg_1.fit(X_tr, y_tr)"
   ]
  },
  {
   "cell_type": "code",
   "execution_count": 64,
   "metadata": {
    "execution": {
     "iopub.execute_input": "2024-04-30T14:25:58.047124Z",
     "iopub.status.busy": "2024-04-30T14:25:58.046737Z",
     "iopub.status.idle": "2024-04-30T14:25:58.477316Z",
     "shell.execute_reply": "2024-04-30T14:25:58.476102Z",
     "shell.execute_reply.started": "2024-04-30T14:25:58.047094Z"
    }
   },
   "outputs": [
    {
     "data": {
      "text/plain": [
       "0.14947121053973828"
      ]
     },
     "execution_count": 64,
     "metadata": {},
     "output_type": "execute_result"
    }
   ],
   "source": [
    "evaluation_metric(y_val, rf_reg_1.predict(X_val))"
   ]
  },
  {
   "cell_type": "markdown",
   "metadata": {},
   "source": [
    "# # 8.6 Voting"
   ]
  },
  {
   "cell_type": "code",
   "execution_count": 65,
   "metadata": {
    "execution": {
     "iopub.execute_input": "2024-04-30T14:31:55.620494Z",
     "iopub.status.busy": "2024-04-30T14:31:55.620041Z",
     "iopub.status.idle": "2024-04-30T14:31:55.630780Z",
     "shell.execute_reply": "2024-04-30T14:31:55.629509Z",
     "shell.execute_reply.started": "2024-04-30T14:31:55.620460Z"
    }
   },
   "outputs": [],
   "source": [
    "ensemble = VotingRegressor(\n",
    "    [\n",
    "        (\"xgb_1\", xgb_reg_1),\n",
    "        (\"xgb_2\", xgb_reg_2),\n",
    "#        (\"lgbm_1\", lgbm_reg_1),\n",
    "#        (\"lgbm_2\", lgbm_reg_2),\n",
    "        (\"cb_1\", cat_reg_1),\n",
    "        (\"cb_2\", cat_reg_2),\n",
    "#        (\"hgb_1\", hgb_reg_1)\n",
    "    ]\n",
    ")"
   ]
  },
  {
   "cell_type": "code",
   "execution_count": 66,
   "metadata": {
    "execution": {
     "iopub.execute_input": "2024-04-30T14:31:58.470849Z",
     "iopub.status.busy": "2024-04-30T14:31:58.470416Z",
     "iopub.status.idle": "2024-04-30T14:33:30.454553Z",
     "shell.execute_reply": "2024-04-30T14:33:30.453162Z",
     "shell.execute_reply.started": "2024-04-30T14:31:58.470803Z"
    }
   },
   "outputs": [
    {
     "data": {
      "text/html": [
       "<style>#sk-container-id-9 {color: black;background-color: white;}#sk-container-id-9 pre{padding: 0;}#sk-container-id-9 div.sk-toggleable {background-color: white;}#sk-container-id-9 label.sk-toggleable__label {cursor: pointer;display: block;width: 100%;margin-bottom: 0;padding: 0.3em;box-sizing: border-box;text-align: center;}#sk-container-id-9 label.sk-toggleable__label-arrow:before {content: \"▸\";float: left;margin-right: 0.25em;color: #696969;}#sk-container-id-9 label.sk-toggleable__label-arrow:hover:before {color: black;}#sk-container-id-9 div.sk-estimator:hover label.sk-toggleable__label-arrow:before {color: black;}#sk-container-id-9 div.sk-toggleable__content {max-height: 0;max-width: 0;overflow: hidden;text-align: left;background-color: #f0f8ff;}#sk-container-id-9 div.sk-toggleable__content pre {margin: 0.2em;color: black;border-radius: 0.25em;background-color: #f0f8ff;}#sk-container-id-9 input.sk-toggleable__control:checked~div.sk-toggleable__content {max-height: 200px;max-width: 100%;overflow: auto;}#sk-container-id-9 input.sk-toggleable__control:checked~label.sk-toggleable__label-arrow:before {content: \"▾\";}#sk-container-id-9 div.sk-estimator input.sk-toggleable__control:checked~label.sk-toggleable__label {background-color: #d4ebff;}#sk-container-id-9 div.sk-label input.sk-toggleable__control:checked~label.sk-toggleable__label {background-color: #d4ebff;}#sk-container-id-9 input.sk-hidden--visually {border: 0;clip: rect(1px 1px 1px 1px);clip: rect(1px, 1px, 1px, 1px);height: 1px;margin: -1px;overflow: hidden;padding: 0;position: absolute;width: 1px;}#sk-container-id-9 div.sk-estimator {font-family: monospace;background-color: #f0f8ff;border: 1px dotted black;border-radius: 0.25em;box-sizing: border-box;margin-bottom: 0.5em;}#sk-container-id-9 div.sk-estimator:hover {background-color: #d4ebff;}#sk-container-id-9 div.sk-parallel-item::after {content: \"\";width: 100%;border-bottom: 1px solid gray;flex-grow: 1;}#sk-container-id-9 div.sk-label:hover label.sk-toggleable__label {background-color: #d4ebff;}#sk-container-id-9 div.sk-serial::before {content: \"\";position: absolute;border-left: 1px solid gray;box-sizing: border-box;top: 0;bottom: 0;left: 50%;z-index: 0;}#sk-container-id-9 div.sk-serial {display: flex;flex-direction: column;align-items: center;background-color: white;padding-right: 0.2em;padding-left: 0.2em;position: relative;}#sk-container-id-9 div.sk-item {position: relative;z-index: 1;}#sk-container-id-9 div.sk-parallel {display: flex;align-items: stretch;justify-content: center;background-color: white;position: relative;}#sk-container-id-9 div.sk-item::before, #sk-container-id-9 div.sk-parallel-item::before {content: \"\";position: absolute;border-left: 1px solid gray;box-sizing: border-box;top: 0;bottom: 0;left: 50%;z-index: -1;}#sk-container-id-9 div.sk-parallel-item {display: flex;flex-direction: column;z-index: 1;position: relative;background-color: white;}#sk-container-id-9 div.sk-parallel-item:first-child::after {align-self: flex-end;width: 50%;}#sk-container-id-9 div.sk-parallel-item:last-child::after {align-self: flex-start;width: 50%;}#sk-container-id-9 div.sk-parallel-item:only-child::after {width: 0;}#sk-container-id-9 div.sk-dashed-wrapped {border: 1px dashed gray;margin: 0 0.4em 0.5em 0.4em;box-sizing: border-box;padding-bottom: 0.4em;background-color: white;}#sk-container-id-9 div.sk-label label {font-family: monospace;font-weight: bold;display: inline-block;line-height: 1.2em;}#sk-container-id-9 div.sk-label-container {text-align: center;}#sk-container-id-9 div.sk-container {/* jupyter's `normalize.less` sets `[hidden] { display: none; }` but bootstrap.min.css set `[hidden] { display: none !important; }` so we also need the `!important` here to be able to override the default hidden behavior on the sphinx rendered scikit-learn.org. See: https://github.com/scikit-learn/scikit-learn/issues/21755 */display: inline-block !important;position: relative;}#sk-container-id-9 div.sk-text-repr-fallback {display: none;}</style><div id=\"sk-container-id-9\" class=\"sk-top-container\"><div class=\"sk-text-repr-fallback\"><pre>VotingRegressor(estimators=[(&#x27;xgb_1&#x27;,\n",
       "                             TransformedTargetRegressor(func=&lt;ufunc &#x27;log1p&#x27;&gt;,\n",
       "                                                        inverse_func=&lt;ufunc &#x27;expm1&#x27;&gt;,\n",
       "                                                        regressor=XGBRegressor(base_score=None,\n",
       "                                                                               booster=None,\n",
       "                                                                               callbacks=None,\n",
       "                                                                               colsample_bylevel=None,\n",
       "                                                                               colsample_bynode=None,\n",
       "                                                                               colsample_bytree=0.6803730288580919,\n",
       "                                                                               device=None,\n",
       "                                                                               early_stopping_rounds=None,\n",
       "                                                                               enable_categorical=False,\n",
       "                                                                               eta=0.010005505674323728,\n",
       "                                                                               e...\n",
       "                             TransformedTargetRegressor(func=&lt;ufunc &#x27;log1p&#x27;&gt;,\n",
       "                                                        inverse_func=&lt;ufunc &#x27;expm1&#x27;&gt;,\n",
       "                                                        regressor=&lt;catboost.core.CatBoostRegressor object at 0x7a87e0e6c6a0&gt;)),\n",
       "                            (&#x27;hgb_1&#x27;,\n",
       "                             TransformedTargetRegressor(func=&lt;ufunc &#x27;log1p&#x27;&gt;,\n",
       "                                                        inverse_func=&lt;ufunc &#x27;expm1&#x27;&gt;,\n",
       "                                                        regressor=HistGradientBoostingRegressor(learning_rate=0.1295378116724848,\n",
       "                                                                                                max_bins=237,\n",
       "                                                                                                max_depth=20,\n",
       "                                                                                                max_leaf_nodes=37,\n",
       "                                                                                                min_samples_leaf=37,\n",
       "                                                                                                random_state=42)))])</pre><b>In a Jupyter environment, please rerun this cell to show the HTML representation or trust the notebook. <br />On GitHub, the HTML representation is unable to render, please try loading this page with nbviewer.org.</b></div><div class=\"sk-container\" hidden><div class=\"sk-item sk-dashed-wrapped\"><div class=\"sk-label-container\"><div class=\"sk-label sk-toggleable\"><input class=\"sk-toggleable__control sk-hidden--visually\" id=\"sk-estimator-id-25\" type=\"checkbox\" ><label for=\"sk-estimator-id-25\" class=\"sk-toggleable__label sk-toggleable__label-arrow\">VotingRegressor</label><div class=\"sk-toggleable__content\"><pre>VotingRegressor(estimators=[(&#x27;xgb_1&#x27;,\n",
       "                             TransformedTargetRegressor(func=&lt;ufunc &#x27;log1p&#x27;&gt;,\n",
       "                                                        inverse_func=&lt;ufunc &#x27;expm1&#x27;&gt;,\n",
       "                                                        regressor=XGBRegressor(base_score=None,\n",
       "                                                                               booster=None,\n",
       "                                                                               callbacks=None,\n",
       "                                                                               colsample_bylevel=None,\n",
       "                                                                               colsample_bynode=None,\n",
       "                                                                               colsample_bytree=0.6803730288580919,\n",
       "                                                                               device=None,\n",
       "                                                                               early_stopping_rounds=None,\n",
       "                                                                               enable_categorical=False,\n",
       "                                                                               eta=0.010005505674323728,\n",
       "                                                                               e...\n",
       "                             TransformedTargetRegressor(func=&lt;ufunc &#x27;log1p&#x27;&gt;,\n",
       "                                                        inverse_func=&lt;ufunc &#x27;expm1&#x27;&gt;,\n",
       "                                                        regressor=&lt;catboost.core.CatBoostRegressor object at 0x7a87e0e6c6a0&gt;)),\n",
       "                            (&#x27;hgb_1&#x27;,\n",
       "                             TransformedTargetRegressor(func=&lt;ufunc &#x27;log1p&#x27;&gt;,\n",
       "                                                        inverse_func=&lt;ufunc &#x27;expm1&#x27;&gt;,\n",
       "                                                        regressor=HistGradientBoostingRegressor(learning_rate=0.1295378116724848,\n",
       "                                                                                                max_bins=237,\n",
       "                                                                                                max_depth=20,\n",
       "                                                                                                max_leaf_nodes=37,\n",
       "                                                                                                min_samples_leaf=37,\n",
       "                                                                                                random_state=42)))])</pre></div></div></div><div class=\"sk-parallel\"><div class=\"sk-parallel-item\"><div class=\"sk-item\"><div class=\"sk-label-container\"><div class=\"sk-label sk-toggleable\"><label>xgb_1</label></div></div><div class=\"sk-serial\"><div class=\"sk-item sk-dashed-wrapped\"><div class=\"sk-parallel\"><div class=\"sk-parallel-item\"><div class=\"sk-item\"><div class=\"sk-label-container\"><div class=\"sk-label sk-toggleable\"><input class=\"sk-toggleable__control sk-hidden--visually\" id=\"sk-estimator-id-26\" type=\"checkbox\" ><label for=\"sk-estimator-id-26\" class=\"sk-toggleable__label sk-toggleable__label-arrow\">regressor: XGBRegressor</label><div class=\"sk-toggleable__content\"><pre>XGBRegressor(base_score=None, booster=None, callbacks=None,\n",
       "             colsample_bylevel=None, colsample_bynode=None,\n",
       "             colsample_bytree=0.6803730288580919, device=None,\n",
       "             early_stopping_rounds=None, enable_categorical=False,\n",
       "             eta=0.010005505674323728, eval_metric=None, feature_types=None,\n",
       "             gamma=0.0, grow_policy=&#x27;lossguide&#x27;, importance_type=None,\n",
       "             interaction_constraints=None, lambda=8.565844294512017,\n",
       "             learning_rate=None, max_bin=None, max_cat_threshold=None,\n",
       "             max_cat_to_onehot=None, max_delta_step=None, max_depth=10,\n",
       "             max_leaves=None, min_child_weight=12.87582166258377, missing=nan,\n",
       "             monotone_constraints=None, multi_strategy=None, n_estimators=982,\n",
       "             n_jobs=None, ...)</pre></div></div></div><div class=\"sk-serial\"><div class=\"sk-item\"><div class=\"sk-estimator sk-toggleable\"><input class=\"sk-toggleable__control sk-hidden--visually\" id=\"sk-estimator-id-27\" type=\"checkbox\" ><label for=\"sk-estimator-id-27\" class=\"sk-toggleable__label sk-toggleable__label-arrow\">XGBRegressor</label><div class=\"sk-toggleable__content\"><pre>XGBRegressor(base_score=None, booster=None, callbacks=None,\n",
       "             colsample_bylevel=None, colsample_bynode=None,\n",
       "             colsample_bytree=0.6803730288580919, device=None,\n",
       "             early_stopping_rounds=None, enable_categorical=False,\n",
       "             eta=0.010005505674323728, eval_metric=None, feature_types=None,\n",
       "             gamma=0.0, grow_policy=&#x27;lossguide&#x27;, importance_type=None,\n",
       "             interaction_constraints=None, lambda=8.565844294512017,\n",
       "             learning_rate=None, max_bin=None, max_cat_threshold=None,\n",
       "             max_cat_to_onehot=None, max_delta_step=None, max_depth=10,\n",
       "             max_leaves=None, min_child_weight=12.87582166258377, missing=nan,\n",
       "             monotone_constraints=None, multi_strategy=None, n_estimators=982,\n",
       "             n_jobs=None, ...)</pre></div></div></div></div></div></div></div></div></div></div></div><div class=\"sk-parallel-item\"><div class=\"sk-item\"><div class=\"sk-label-container\"><div class=\"sk-label sk-toggleable\"><label>xgb_2</label></div></div><div class=\"sk-serial\"><div class=\"sk-item sk-dashed-wrapped\"><div class=\"sk-parallel\"><div class=\"sk-parallel-item\"><div class=\"sk-item\"><div class=\"sk-label-container\"><div class=\"sk-label sk-toggleable\"><input class=\"sk-toggleable__control sk-hidden--visually\" id=\"sk-estimator-id-28\" type=\"checkbox\" ><label for=\"sk-estimator-id-28\" class=\"sk-toggleable__label sk-toggleable__label-arrow\">regressor: XGBRegressor</label><div class=\"sk-toggleable__content\"><pre>XGBRegressor(base_score=None, booster=None, callbacks=None,\n",
       "             colsample_bylevel=None, colsample_bynode=None,\n",
       "             colsample_bytree=0.5537485302252583, device=None,\n",
       "             early_stopping_rounds=None, enable_categorical=False,\n",
       "             eta=0.01077242260892917, eval_metric=None, feature_types=None,\n",
       "             gamma=0.0, grow_policy=&#x27;lossguide&#x27;, importance_type=None,\n",
       "             interaction_constraints=None, lambda=10.201959897562874,\n",
       "             learning_rate=None, max_bin=None, max_cat_threshold=None,\n",
       "             max_cat_to_onehot=None, max_delta_step=None, max_depth=11,\n",
       "             max_leaves=None, min_child_weight=9.114122932027431, missing=nan,\n",
       "             monotone_constraints=None, multi_strategy=None, n_estimators=949,\n",
       "             n_jobs=None, ...)</pre></div></div></div><div class=\"sk-serial\"><div class=\"sk-item\"><div class=\"sk-estimator sk-toggleable\"><input class=\"sk-toggleable__control sk-hidden--visually\" id=\"sk-estimator-id-29\" type=\"checkbox\" ><label for=\"sk-estimator-id-29\" class=\"sk-toggleable__label sk-toggleable__label-arrow\">XGBRegressor</label><div class=\"sk-toggleable__content\"><pre>XGBRegressor(base_score=None, booster=None, callbacks=None,\n",
       "             colsample_bylevel=None, colsample_bynode=None,\n",
       "             colsample_bytree=0.5537485302252583, device=None,\n",
       "             early_stopping_rounds=None, enable_categorical=False,\n",
       "             eta=0.01077242260892917, eval_metric=None, feature_types=None,\n",
       "             gamma=0.0, grow_policy=&#x27;lossguide&#x27;, importance_type=None,\n",
       "             interaction_constraints=None, lambda=10.201959897562874,\n",
       "             learning_rate=None, max_bin=None, max_cat_threshold=None,\n",
       "             max_cat_to_onehot=None, max_delta_step=None, max_depth=11,\n",
       "             max_leaves=None, min_child_weight=9.114122932027431, missing=nan,\n",
       "             monotone_constraints=None, multi_strategy=None, n_estimators=949,\n",
       "             n_jobs=None, ...)</pre></div></div></div></div></div></div></div></div></div></div></div><div class=\"sk-parallel-item\"><div class=\"sk-item\"><div class=\"sk-label-container\"><div class=\"sk-label sk-toggleable\"><label>lgbm_1</label></div></div><div class=\"sk-serial\"><div class=\"sk-item sk-dashed-wrapped\"><div class=\"sk-parallel\"><div class=\"sk-parallel-item\"><div class=\"sk-item\"><div class=\"sk-label-container\"><div class=\"sk-label sk-toggleable\"><input class=\"sk-toggleable__control sk-hidden--visually\" id=\"sk-estimator-id-30\" type=\"checkbox\" ><label for=\"sk-estimator-id-30\" class=\"sk-toggleable__label sk-toggleable__label-arrow\">regressor: LGBMRegressor</label><div class=\"sk-toggleable__content\"><pre>LGBMRegressor(colsample_bytree=0.6339394447109402,\n",
       "              lambda_l1=0.014169833960239667, lambda_l2=0.02453214295703588,\n",
       "              learning_rate=0.023935877142742104, max_depth=12,\n",
       "              min_child_samples=18, min_split_gain=0.10176601252417374,\n",
       "              n_estimators=427, n_jobs=-1, num_leaves=94, random_state=42,\n",
       "              subsample=0.8878090464357417, verbose=-1)</pre></div></div></div><div class=\"sk-serial\"><div class=\"sk-item\"><div class=\"sk-estimator sk-toggleable\"><input class=\"sk-toggleable__control sk-hidden--visually\" id=\"sk-estimator-id-31\" type=\"checkbox\" ><label for=\"sk-estimator-id-31\" class=\"sk-toggleable__label sk-toggleable__label-arrow\">LGBMRegressor</label><div class=\"sk-toggleable__content\"><pre>LGBMRegressor(colsample_bytree=0.6339394447109402,\n",
       "              lambda_l1=0.014169833960239667, lambda_l2=0.02453214295703588,\n",
       "              learning_rate=0.023935877142742104, max_depth=12,\n",
       "              min_child_samples=18, min_split_gain=0.10176601252417374,\n",
       "              n_estimators=427, n_jobs=-1, num_leaves=94, random_state=42,\n",
       "              subsample=0.8878090464357417, verbose=-1)</pre></div></div></div></div></div></div></div></div></div></div></div><div class=\"sk-parallel-item\"><div class=\"sk-item\"><div class=\"sk-label-container\"><div class=\"sk-label sk-toggleable\"><label>lgbm_2</label></div></div><div class=\"sk-serial\"><div class=\"sk-item sk-dashed-wrapped\"><div class=\"sk-parallel\"><div class=\"sk-parallel-item\"><div class=\"sk-item\"><div class=\"sk-label-container\"><div class=\"sk-label sk-toggleable\"><input class=\"sk-toggleable__control sk-hidden--visually\" id=\"sk-estimator-id-32\" type=\"checkbox\" ><label for=\"sk-estimator-id-32\" class=\"sk-toggleable__label sk-toggleable__label-arrow\">regressor: LGBMRegressor</label><div class=\"sk-toggleable__content\"><pre>LGBMRegressor(colsample_bytree=0.6237421121741338,\n",
       "              lambda_l1=0.014968558836396594, lambda_l2=0.024025038402942282,\n",
       "              learning_rate=0.01711102441624917, max_depth=13,\n",
       "              min_child_samples=12, min_split_gain=0.10028969929666237,\n",
       "              n_estimators=784, n_jobs=-1, num_leaves=92, random_state=42,\n",
       "              subsample=0.8114831522568513, verbose=-1)</pre></div></div></div><div class=\"sk-serial\"><div class=\"sk-item\"><div class=\"sk-estimator sk-toggleable\"><input class=\"sk-toggleable__control sk-hidden--visually\" id=\"sk-estimator-id-33\" type=\"checkbox\" ><label for=\"sk-estimator-id-33\" class=\"sk-toggleable__label sk-toggleable__label-arrow\">LGBMRegressor</label><div class=\"sk-toggleable__content\"><pre>LGBMRegressor(colsample_bytree=0.6237421121741338,\n",
       "              lambda_l1=0.014968558836396594, lambda_l2=0.024025038402942282,\n",
       "              learning_rate=0.01711102441624917, max_depth=13,\n",
       "              min_child_samples=12, min_split_gain=0.10028969929666237,\n",
       "              n_estimators=784, n_jobs=-1, num_leaves=92, random_state=42,\n",
       "              subsample=0.8114831522568513, verbose=-1)</pre></div></div></div></div></div></div></div></div></div></div></div><div class=\"sk-parallel-item\"><div class=\"sk-item\"><div class=\"sk-label-container\"><div class=\"sk-label sk-toggleable\"><label>cb_1</label></div></div><div class=\"sk-serial\"><div class=\"sk-item sk-dashed-wrapped\"><div class=\"sk-parallel\"><div class=\"sk-parallel-item\"><div class=\"sk-item\"><div class=\"sk-label-container\"><div class=\"sk-label sk-toggleable\"><input class=\"sk-toggleable__control sk-hidden--visually\" id=\"sk-estimator-id-34\" type=\"checkbox\" ><label for=\"sk-estimator-id-34\" class=\"sk-toggleable__label sk-toggleable__label-arrow\">regressor: CatBoostRegressor</label><div class=\"sk-toggleable__content\"><pre>&lt;catboost.core.CatBoostRegressor object at 0x7a87e0e42770&gt;</pre></div></div></div><div class=\"sk-serial\"><div class=\"sk-item\"><div class=\"sk-estimator sk-toggleable\"><input class=\"sk-toggleable__control sk-hidden--visually\" id=\"sk-estimator-id-35\" type=\"checkbox\" ><label for=\"sk-estimator-id-35\" class=\"sk-toggleable__label sk-toggleable__label-arrow\">CatBoostRegressor</label><div class=\"sk-toggleable__content\"><pre>&lt;catboost.core.CatBoostRegressor object at 0x7a87e0e42770&gt;</pre></div></div></div></div></div></div></div></div></div></div></div><div class=\"sk-parallel-item\"><div class=\"sk-item\"><div class=\"sk-label-container\"><div class=\"sk-label sk-toggleable\"><label>cb_2</label></div></div><div class=\"sk-serial\"><div class=\"sk-item sk-dashed-wrapped\"><div class=\"sk-parallel\"><div class=\"sk-parallel-item\"><div class=\"sk-item\"><div class=\"sk-label-container\"><div class=\"sk-label sk-toggleable\"><input class=\"sk-toggleable__control sk-hidden--visually\" id=\"sk-estimator-id-36\" type=\"checkbox\" ><label for=\"sk-estimator-id-36\" class=\"sk-toggleable__label sk-toggleable__label-arrow\">regressor: CatBoostRegressor</label><div class=\"sk-toggleable__content\"><pre>&lt;catboost.core.CatBoostRegressor object at 0x7a87e0e6c6a0&gt;</pre></div></div></div><div class=\"sk-serial\"><div class=\"sk-item\"><div class=\"sk-estimator sk-toggleable\"><input class=\"sk-toggleable__control sk-hidden--visually\" id=\"sk-estimator-id-37\" type=\"checkbox\" ><label for=\"sk-estimator-id-37\" class=\"sk-toggleable__label sk-toggleable__label-arrow\">CatBoostRegressor</label><div class=\"sk-toggleable__content\"><pre>&lt;catboost.core.CatBoostRegressor object at 0x7a87e0e6c6a0&gt;</pre></div></div></div></div></div></div></div></div></div></div></div><div class=\"sk-parallel-item\"><div class=\"sk-item\"><div class=\"sk-label-container\"><div class=\"sk-label sk-toggleable\"><label>hgb_1</label></div></div><div class=\"sk-serial\"><div class=\"sk-item sk-dashed-wrapped\"><div class=\"sk-parallel\"><div class=\"sk-parallel-item\"><div class=\"sk-item\"><div class=\"sk-label-container\"><div class=\"sk-label sk-toggleable\"><input class=\"sk-toggleable__control sk-hidden--visually\" id=\"sk-estimator-id-38\" type=\"checkbox\" ><label for=\"sk-estimator-id-38\" class=\"sk-toggleable__label sk-toggleable__label-arrow\">regressor: HistGradientBoostingRegressor</label><div class=\"sk-toggleable__content\"><pre>HistGradientBoostingRegressor(learning_rate=0.1295378116724848, max_bins=237,\n",
       "                              max_depth=20, max_leaf_nodes=37,\n",
       "                              min_samples_leaf=37, random_state=42)</pre></div></div></div><div class=\"sk-serial\"><div class=\"sk-item\"><div class=\"sk-estimator sk-toggleable\"><input class=\"sk-toggleable__control sk-hidden--visually\" id=\"sk-estimator-id-39\" type=\"checkbox\" ><label for=\"sk-estimator-id-39\" class=\"sk-toggleable__label sk-toggleable__label-arrow\">HistGradientBoostingRegressor</label><div class=\"sk-toggleable__content\"><pre>HistGradientBoostingRegressor(learning_rate=0.1295378116724848, max_bins=237,\n",
       "                              max_depth=20, max_leaf_nodes=37,\n",
       "                              min_samples_leaf=37, random_state=42)</pre></div></div></div></div></div></div></div></div></div></div></div></div></div></div></div>"
      ],
      "text/plain": [
       "VotingRegressor(estimators=[('xgb_1',\n",
       "                             TransformedTargetRegressor(func=<ufunc 'log1p'>,\n",
       "                                                        inverse_func=<ufunc 'expm1'>,\n",
       "                                                        regressor=XGBRegressor(base_score=None,\n",
       "                                                                               booster=None,\n",
       "                                                                               callbacks=None,\n",
       "                                                                               colsample_bylevel=None,\n",
       "                                                                               colsample_bynode=None,\n",
       "                                                                               colsample_bytree=0.6803730288580919,\n",
       "                                                                               device=None,\n",
       "                                                                               early_stopping_rounds=None,\n",
       "                                                                               enable_categorical=False,\n",
       "                                                                               eta=0.010005505674323728,\n",
       "                                                                               e...\n",
       "                             TransformedTargetRegressor(func=<ufunc 'log1p'>,\n",
       "                                                        inverse_func=<ufunc 'expm1'>,\n",
       "                                                        regressor=<catboost.core.CatBoostRegressor object at 0x7a87e0e6c6a0>)),\n",
       "                            ('hgb_1',\n",
       "                             TransformedTargetRegressor(func=<ufunc 'log1p'>,\n",
       "                                                        inverse_func=<ufunc 'expm1'>,\n",
       "                                                        regressor=HistGradientBoostingRegressor(learning_rate=0.1295378116724848,\n",
       "                                                                                                max_bins=237,\n",
       "                                                                                                max_depth=20,\n",
       "                                                                                                max_leaf_nodes=37,\n",
       "                                                                                                min_samples_leaf=37,\n",
       "                                                                                                random_state=42)))])"
      ]
     },
     "execution_count": 66,
     "metadata": {},
     "output_type": "execute_result"
    }
   ],
   "source": [
    "ensemble.fit(X_train, y_train)"
   ]
  },
  {
   "cell_type": "markdown",
   "metadata": {},
   "source": [
    "# 9. Make prediction on test dataset."
   ]
  },
  {
   "cell_type": "code",
   "execution_count": 67,
   "metadata": {
    "execution": {
     "iopub.execute_input": "2024-04-30T14:33:30.457218Z",
     "iopub.status.busy": "2024-04-30T14:33:30.456803Z",
     "iopub.status.idle": "2024-04-30T14:33:30.463062Z",
     "shell.execute_reply": "2024-04-30T14:33:30.461597Z",
     "shell.execute_reply.started": "2024-04-30T14:33:30.457186Z"
    }
   },
   "outputs": [],
   "source": [
    "X_test = test"
   ]
  },
  {
   "cell_type": "code",
   "execution_count": 68,
   "metadata": {
    "execution": {
     "iopub.execute_input": "2024-04-30T14:33:30.464704Z",
     "iopub.status.busy": "2024-04-30T14:33:30.464380Z",
     "iopub.status.idle": "2024-04-30T14:33:30.485664Z",
     "shell.execute_reply": "2024-04-30T14:33:30.484186Z",
     "shell.execute_reply.started": "2024-04-30T14:33:30.464677Z"
    }
   },
   "outputs": [
    {
     "data": {
      "text/plain": [
       "0"
      ]
     },
     "execution_count": 68,
     "metadata": {},
     "output_type": "execute_result"
    }
   ],
   "source": [
    "# No missing values in the test dataset.\n",
    "X_test.isna().sum().sum()"
   ]
  },
  {
   "cell_type": "code",
   "execution_count": 69,
   "metadata": {
    "execution": {
     "iopub.execute_input": "2024-04-30T14:33:30.488985Z",
     "iopub.status.busy": "2024-04-30T14:33:30.488277Z",
     "iopub.status.idle": "2024-04-30T14:33:30.520188Z",
     "shell.execute_reply": "2024-04-30T14:33:30.518741Z",
     "shell.execute_reply.started": "2024-04-30T14:33:30.488949Z"
    }
   },
   "outputs": [
    {
     "name": "stdout",
     "output_type": "stream",
     "text": [
      "\n",
      " Skewness in all numerical independent variables: \n",
      "\n"
     ]
    },
    {
     "data": {
      "text/html": [
       "<div>\n",
       "<style scoped>\n",
       "    .dataframe tbody tr th:only-of-type {\n",
       "        vertical-align: middle;\n",
       "    }\n",
       "\n",
       "    .dataframe tbody tr th {\n",
       "        vertical-align: top;\n",
       "    }\n",
       "\n",
       "    .dataframe thead th {\n",
       "        text-align: right;\n",
       "    }\n",
       "</style>\n",
       "<table border=\"1\" class=\"dataframe\">\n",
       "  <thead>\n",
       "    <tr style=\"text-align: right;\">\n",
       "      <th></th>\n",
       "      <th>Skewness</th>\n",
       "    </tr>\n",
       "  </thead>\n",
       "  <tbody>\n",
       "    <tr>\n",
       "      <th>Length</th>\n",
       "      <td>-0.734547</td>\n",
       "    </tr>\n",
       "    <tr>\n",
       "      <th>Diameter</th>\n",
       "      <td>-0.696294</td>\n",
       "    </tr>\n",
       "    <tr>\n",
       "      <th>Height</th>\n",
       "      <td>0.554492</td>\n",
       "    </tr>\n",
       "    <tr>\n",
       "      <th>Whole_weight</th>\n",
       "      <td>0.435653</td>\n",
       "    </tr>\n",
       "    <tr>\n",
       "      <th>Shucked_weight</th>\n",
       "      <td>0.593191</td>\n",
       "    </tr>\n",
       "    <tr>\n",
       "      <th>Viscera_weight</th>\n",
       "      <td>0.476117</td>\n",
       "    </tr>\n",
       "    <tr>\n",
       "      <th>Shell_weight</th>\n",
       "      <td>0.468512</td>\n",
       "    </tr>\n",
       "  </tbody>\n",
       "</table>\n",
       "</div>"
      ],
      "text/plain": [
       "                Skewness\n",
       "Length         -0.734547\n",
       "Diameter       -0.696294\n",
       "Height          0.554492\n",
       "Whole_weight    0.435653\n",
       "Shucked_weight  0.593191\n",
       "Viscera_weight  0.476117\n",
       "Shell_weight    0.468512"
      ]
     },
     "execution_count": 69,
     "metadata": {},
     "output_type": "execute_result"
    }
   ],
   "source": [
    "numeric_features = X_test.dtypes[X_test.dtypes != \"object\"].index\n",
    "print('\\n Skewness in all numerical independent variables: \\n')\n",
    "skewness_info = pd.DataFrame({'Skewness': X_test[numeric_features].apply(lambda x: skew(x))})\n",
    "skewness_info.head(30)"
   ]
  },
  {
   "cell_type": "code",
   "execution_count": 70,
   "metadata": {
    "execution": {
     "iopub.execute_input": "2024-04-30T14:33:30.521949Z",
     "iopub.status.busy": "2024-04-30T14:33:30.521595Z",
     "iopub.status.idle": "2024-04-30T14:33:30.529673Z",
     "shell.execute_reply": "2024-04-30T14:33:30.528449Z",
     "shell.execute_reply.started": "2024-04-30T14:33:30.521920Z"
    }
   },
   "outputs": [
    {
     "name": "stdout",
     "output_type": "stream",
     "text": [
      "There are 0 skewed numerical features to Box Cox transform\n"
     ]
    }
   ],
   "source": [
    "df = skewness_info[abs(skewness_info['Skewness']) > 0.75]\n",
    "print(\"There are {} skewed numerical features to Box Cox transform\".format(df.shape[0]))"
   ]
  },
  {
   "cell_type": "code",
   "execution_count": null,
   "metadata": {},
   "outputs": [],
   "source": [
    "# Because there are 0 values in the Height column, we can not use stats.boxcox.\n",
    "#skewed_features = df.index\n",
    "#for i in skewed_features:\n",
    "#    X_test[i] = boxcox1p(X_test[i], boxcox_normmax(X_test[i] + 1, method='mle'))"
   ]
  },
  {
   "cell_type": "code",
   "execution_count": 71,
   "metadata": {
    "execution": {
     "iopub.execute_input": "2024-04-30T14:33:30.531508Z",
     "iopub.status.busy": "2024-04-30T14:33:30.531113Z",
     "iopub.status.idle": "2024-04-30T14:33:30.554565Z",
     "shell.execute_reply": "2024-04-30T14:33:30.553083Z",
     "shell.execute_reply.started": "2024-04-30T14:33:30.531476Z"
    }
   },
   "outputs": [],
   "source": [
    "X_test = pd.get_dummies(X_test, columns=['Sex'], dtype=float)"
   ]
  },
  {
   "cell_type": "code",
   "execution_count": 72,
   "metadata": {
    "execution": {
     "iopub.execute_input": "2024-04-30T14:33:30.556354Z",
     "iopub.status.busy": "2024-04-30T14:33:30.555941Z",
     "iopub.status.idle": "2024-04-30T14:33:46.721967Z",
     "shell.execute_reply": "2024-04-30T14:33:46.720743Z",
     "shell.execute_reply.started": "2024-04-30T14:33:30.556322Z"
    }
   },
   "outputs": [],
   "source": [
    "pred = ensemble.predict(X_test)"
   ]
  },
  {
   "cell_type": "code",
   "execution_count": 73,
   "metadata": {
    "execution": {
     "iopub.execute_input": "2024-04-30T14:33:46.724026Z",
     "iopub.status.busy": "2024-04-30T14:33:46.723611Z",
     "iopub.status.idle": "2024-04-30T14:33:46.736873Z",
     "shell.execute_reply": "2024-04-30T14:33:46.735617Z",
     "shell.execute_reply.started": "2024-04-30T14:33:46.723993Z"
    }
   },
   "outputs": [],
   "source": [
    "sub = pd.DataFrame()\n",
    "sub['id'] = test_ID\n",
    "sub['Rings'] = pred\n",
    "sub['Rings'] = sub['Rings'].clip(1,29)\n",
    "#sub['Rings'] = np.where(sub['Rings'].between(27.5, 29), 29, sub['Rings'])"
   ]
  },
  {
   "cell_type": "code",
   "execution_count": 74,
   "metadata": {
    "execution": {
     "iopub.execute_input": "2024-04-30T14:33:46.739890Z",
     "iopub.status.busy": "2024-04-30T14:33:46.738517Z",
     "iopub.status.idle": "2024-04-30T14:33:46.977897Z",
     "shell.execute_reply": "2024-04-30T14:33:46.976662Z",
     "shell.execute_reply.started": "2024-04-30T14:33:46.739817Z"
    }
   },
   "outputs": [
    {
     "data": {
      "text/html": [
       "<div>\n",
       "<style scoped>\n",
       "    .dataframe tbody tr th:only-of-type {\n",
       "        vertical-align: middle;\n",
       "    }\n",
       "\n",
       "    .dataframe tbody tr th {\n",
       "        vertical-align: top;\n",
       "    }\n",
       "\n",
       "    .dataframe thead th {\n",
       "        text-align: right;\n",
       "    }\n",
       "</style>\n",
       "<table border=\"1\" class=\"dataframe\">\n",
       "  <thead>\n",
       "    <tr style=\"text-align: right;\">\n",
       "      <th></th>\n",
       "      <th>id</th>\n",
       "      <th>Rings</th>\n",
       "    </tr>\n",
       "  </thead>\n",
       "  <tbody>\n",
       "    <tr>\n",
       "      <th>0</th>\n",
       "      <td>90615</td>\n",
       "      <td>9.750440</td>\n",
       "    </tr>\n",
       "    <tr>\n",
       "      <th>1</th>\n",
       "      <td>90616</td>\n",
       "      <td>9.729701</td>\n",
       "    </tr>\n",
       "    <tr>\n",
       "      <th>2</th>\n",
       "      <td>90617</td>\n",
       "      <td>9.926200</td>\n",
       "    </tr>\n",
       "    <tr>\n",
       "      <th>3</th>\n",
       "      <td>90618</td>\n",
       "      <td>10.374029</td>\n",
       "    </tr>\n",
       "    <tr>\n",
       "      <th>4</th>\n",
       "      <td>90619</td>\n",
       "      <td>7.566330</td>\n",
       "    </tr>\n",
       "  </tbody>\n",
       "</table>\n",
       "</div>"
      ],
      "text/plain": [
       "      id      Rings\n",
       "0  90615   9.750440\n",
       "1  90616   9.729701\n",
       "2  90617   9.926200\n",
       "3  90618  10.374029\n",
       "4  90619   7.566330"
      ]
     },
     "execution_count": 74,
     "metadata": {},
     "output_type": "execute_result"
    }
   ],
   "source": [
    "sub.to_csv('/kaggle/working/submission.csv',index=False)\n",
    "sub.head()"
   ]
  }
 ],
 "metadata": {
  "kaggle": {
   "accelerator": "none",
   "dataSources": [
    {
     "databundleVersionId": 8096274,
     "sourceId": 72489,
     "sourceType": "competition"
    },
    {
     "datasetId": 4804158,
     "sourceId": 8128472,
     "sourceType": "datasetVersion"
    }
   ],
   "isGpuEnabled": false,
   "isInternetEnabled": true,
   "language": "python",
   "sourceType": "notebook"
  },
  "kernelspec": {
   "display_name": "Python 3 (ipykernel)",
   "language": "python",
   "name": "python3"
  },
  "language_info": {
   "codemirror_mode": {
    "name": "ipython",
    "version": 3
   },
   "file_extension": ".py",
   "mimetype": "text/x-python",
   "name": "python",
   "nbconvert_exporter": "python",
   "pygments_lexer": "ipython3",
   "version": "3.10.9"
  }
 },
 "nbformat": 4,
 "nbformat_minor": 4
}
